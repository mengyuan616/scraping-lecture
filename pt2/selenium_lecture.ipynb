{
 "cells": [
  {
   "cell_type": "markdown",
   "id": "4d24fb56-e617-4aef-873b-470d074b0d3c",
   "metadata": {
    "tags": []
   },
   "source": [
    "# Scraping dynamic web sites with Selenium\n",
    "\n",
    "[Last week's lesson](../pt1/scraping_lecture.ipynb) involved scraping a static site, or a site that is rendered up front in HTML. Today, we'll look at how to scrape sites that change when you load or interact with the page, sometimes without the URL changing.\n",
    "\n",
    "[Selenium](https://www.selenium.dev/documentation/) was created to \"automate browsers.\" The major use case for software like Selenium is to automate testing browser-based apps. But journalists can use software like Selenium to scrape dynamic websites.\n",
    "\n",
    "For today's lesson, we're going to scrape all the public hearings in Alameda County courts on a given day."
   ]
  },
  {
   "cell_type": "code",
   "execution_count": 1,
   "id": "dd740cd2-b32f-4f59-830e-576f7224f909",
   "metadata": {
    "tags": []
   },
   "outputs": [
    {
     "name": "stdout",
     "output_type": "stream",
     "text": [
      "Requirement already satisfied: selenium in /Users/KaylaDong/.pyenv/versions/3.8.5/envs/scraping-lecture-3.8.5/lib/python3.8/site-packages (4.1.0)\n",
      "Requirement already satisfied: trio-websocket~=0.9 in /Users/KaylaDong/.pyenv/versions/3.8.5/envs/scraping-lecture-3.8.5/lib/python3.8/site-packages (from selenium) (0.9.2)\n",
      "Requirement already satisfied: urllib3[secure]~=1.26 in /Users/KaylaDong/.pyenv/versions/3.8.5/envs/scraping-lecture-3.8.5/lib/python3.8/site-packages (from selenium) (1.26.7)\n",
      "Requirement already satisfied: trio~=0.17 in /Users/KaylaDong/.pyenv/versions/3.8.5/envs/scraping-lecture-3.8.5/lib/python3.8/site-packages (from selenium) (0.19.0)\n",
      "Requirement already satisfied: idna in /Users/KaylaDong/.pyenv/versions/3.8.5/envs/scraping-lecture-3.8.5/lib/python3.8/site-packages (from trio~=0.17->selenium) (3.3)\n",
      "Requirement already satisfied: sortedcontainers in /Users/KaylaDong/.pyenv/versions/3.8.5/envs/scraping-lecture-3.8.5/lib/python3.8/site-packages (from trio~=0.17->selenium) (2.4.0)\n",
      "Requirement already satisfied: attrs>=19.2.0 in /Users/KaylaDong/.pyenv/versions/3.8.5/envs/scraping-lecture-3.8.5/lib/python3.8/site-packages (from trio~=0.17->selenium) (21.2.0)\n",
      "Requirement already satisfied: sniffio in /Users/KaylaDong/.pyenv/versions/3.8.5/envs/scraping-lecture-3.8.5/lib/python3.8/site-packages (from trio~=0.17->selenium) (1.2.0)\n",
      "Requirement already satisfied: async-generator>=1.9 in /Users/KaylaDong/.pyenv/versions/3.8.5/envs/scraping-lecture-3.8.5/lib/python3.8/site-packages (from trio~=0.17->selenium) (1.10)\n",
      "Requirement already satisfied: outcome in /Users/KaylaDong/.pyenv/versions/3.8.5/envs/scraping-lecture-3.8.5/lib/python3.8/site-packages (from trio~=0.17->selenium) (1.1.0)\n",
      "Requirement already satisfied: wsproto>=0.14 in /Users/KaylaDong/.pyenv/versions/3.8.5/envs/scraping-lecture-3.8.5/lib/python3.8/site-packages (from trio-websocket~=0.9->selenium) (1.0.0)\n",
      "Requirement already satisfied: certifi in /Users/KaylaDong/.pyenv/versions/3.8.5/envs/scraping-lecture-3.8.5/lib/python3.8/site-packages (from urllib3[secure]~=1.26->selenium) (2021.10.8)\n",
      "Requirement already satisfied: pyOpenSSL>=0.14 in /Users/KaylaDong/.pyenv/versions/3.8.5/envs/scraping-lecture-3.8.5/lib/python3.8/site-packages (from urllib3[secure]~=1.26->selenium) (21.0.0)\n",
      "Requirement already satisfied: cryptography>=1.3.4 in /Users/KaylaDong/.pyenv/versions/3.8.5/envs/scraping-lecture-3.8.5/lib/python3.8/site-packages (from urllib3[secure]~=1.26->selenium) (36.0.0)\n",
      "Requirement already satisfied: cffi>=1.12 in /Users/KaylaDong/.pyenv/versions/3.8.5/envs/scraping-lecture-3.8.5/lib/python3.8/site-packages (from cryptography>=1.3.4->urllib3[secure]~=1.26->selenium) (1.15.0)\n",
      "Requirement already satisfied: six>=1.5.2 in /Users/KaylaDong/.pyenv/versions/3.8.5/envs/scraping-lecture-3.8.5/lib/python3.8/site-packages (from pyOpenSSL>=0.14->urllib3[secure]~=1.26->selenium) (1.16.0)\n",
      "Requirement already satisfied: h11<1,>=0.9.0 in /Users/KaylaDong/.pyenv/versions/3.8.5/envs/scraping-lecture-3.8.5/lib/python3.8/site-packages (from wsproto>=0.14->trio-websocket~=0.9->selenium) (0.12.0)\n",
      "Requirement already satisfied: pycparser in /Users/KaylaDong/.pyenv/versions/3.8.5/envs/scraping-lecture-3.8.5/lib/python3.8/site-packages (from cffi>=1.12->cryptography>=1.3.4->urllib3[secure]~=1.26->selenium) (2.21)\n"
     ]
    }
   ],
   "source": [
    "!pip install selenium"
   ]
  },
  {
   "cell_type": "code",
   "execution_count": 2,
   "id": "df2c2744-372e-488c-943a-6937bad56f30",
   "metadata": {
    "tags": []
   },
   "outputs": [
    {
     "name": "stdout",
     "output_type": "stream",
     "text": [
      "anyio==3.4.0\n",
      "appnope==0.1.2\n",
      "argon2-cffi==21.1.0\n",
      "async-generator==1.10\n",
      "attrs==21.2.0\n",
      "Babel==2.9.1\n",
      "backcall==0.2.0\n",
      "beautifulsoup4==4.10.0\n",
      "bleach==4.1.0\n",
      "bs4==0.0.1\n",
      "certifi==2021.10.8\n",
      "cffi==1.15.0\n",
      "charset-normalizer==2.0.8\n",
      "cryptography==36.0.0\n",
      "debugpy==1.5.1\n",
      "decorator==5.1.0\n",
      "defusedxml==0.7.1\n",
      "entrypoints==0.3\n",
      "h11==0.12.0\n",
      "idna==3.3\n",
      "importlib-resources==5.4.0\n",
      "ipykernel==6.5.1\n",
      "ipython==7.30.0\n",
      "ipython-genutils==0.2.0\n",
      "ipywidgets==7.6.5\n",
      "jedi==0.18.1\n",
      "Jinja2==3.0.3\n",
      "json5==0.9.6\n",
      "jsonschema==4.2.1\n",
      "jupyter==1.0.0\n",
      "jupyter-client==7.1.0\n",
      "jupyter-console==6.4.0\n",
      "jupyter-contrib-core==0.3.3\n",
      "jupyter-core==4.9.1\n",
      "jupyter-nbextensions-configurator==0.4.1\n",
      "jupyter-server==1.12.1\n",
      "jupyterlab==3.2.4\n",
      "jupyterlab-pygments==0.1.2\n",
      "jupyterlab-server==2.8.2\n",
      "jupyterlab-widgets==1.0.2\n",
      "MarkupSafe==2.0.1\n",
      "matplotlib-inline==0.1.3\n",
      "mistune==0.8.4\n",
      "nbclassic==0.3.4\n",
      "nbclient==0.5.9\n",
      "nbconvert==6.3.0\n",
      "nbformat==5.1.3\n",
      "nest-asyncio==1.5.1\n",
      "notebook==6.4.6\n",
      "numpy==1.21.4\n",
      "outcome==1.1.0\n",
      "packaging==21.3\n",
      "pandas==1.3.4\n",
      "pandocfilters==1.5.0\n",
      "parso==0.8.2\n",
      "pexpect==4.8.0\n",
      "pickleshare==0.7.5\n",
      "prometheus-client==0.12.0\n",
      "prompt-toolkit==3.0.23\n",
      "ptyprocess==0.7.0\n",
      "pycparser==2.21\n",
      "Pygments==2.10.0\n",
      "pyOpenSSL==21.0.0\n",
      "pyparsing==3.0.6\n",
      "pyrsistent==0.18.0\n",
      "python-dateutil==2.8.2\n",
      "pytz==2021.3\n",
      "PyYAML==6.0\n",
      "pyzmq==22.3.0\n",
      "qtconsole==5.2.1\n",
      "QtPy==1.11.2\n",
      "requests==2.26.0\n",
      "selenium==4.1.0\n",
      "Send2Trash==1.8.0\n",
      "six==1.16.0\n",
      "sniffio==1.2.0\n",
      "sortedcontainers==2.4.0\n",
      "soupsieve==2.3.1\n",
      "terminado==0.12.1\n",
      "testpath==0.5.0\n",
      "tornado==6.1\n",
      "tqdm==4.62.3\n",
      "traitlets==5.1.1\n",
      "trio==0.19.0\n",
      "trio-websocket==0.9.2\n",
      "urllib3==1.26.7\n",
      "wcwidth==0.2.5\n",
      "webencodings==0.5.1\n",
      "websocket-client==1.2.1\n",
      "widgetsnbextension==3.5.2\n",
      "wsproto==1.0.0\n",
      "zipp==3.6.0\n"
     ]
    }
   ],
   "source": [
    "# see the versions\n",
    "!pip freeze"
   ]
  },
  {
   "cell_type": "code",
   "execution_count": 3,
   "id": "b3480489-09ab-4566-ad48-d26769bd20dd",
   "metadata": {},
   "outputs": [
    {
     "name": "stderr",
     "output_type": "stream",
     "text": [
      "/Users/KaylaDong/.pyenv/versions/3.8.5/envs/scraping-lecture-3.8.5/lib/python3.8/site-packages/pandas/compat/__init__.py:124: UserWarning: Could not import the lzma module. Your installed Python is incomplete. Attempting to use lzma compression will result in a RuntimeError.\n",
      "  warnings.warn(msg)\n"
     ]
    }
   ],
   "source": [
    "import pandas as pd\n",
    "from bs4 import BeautifulSoup\n",
    "from tqdm.notebook import tqdm\n",
    "\n",
    "from selenium import webdriver\n",
    "from selenium.webdriver.support.select import Select\n",
    "from selenium.webdriver.common.by import By\n",
    "\n",
    "import time\n",
    "import math"
   ]
  },
  {
   "cell_type": "markdown",
   "id": "f32ad8f2-f2c4-4e0c-831e-89abd8c58624",
   "metadata": {},
   "source": [
    "## Open your automated browser\n",
    "\n",
    "Earlier we installed `chromedriver` using `brew`. Below, we tell Selenium to use Chrome as our automated browser."
   ]
  },
  {
   "cell_type": "code",
   "execution_count": 4,
   "id": "4b419ae7-3260-495b-8c91-e955989f5a8d",
   "metadata": {},
   "outputs": [],
   "source": [
    "# initiate webdriver\n",
    "driver = webdriver.Chrome()\n",
    "\n",
    "# some people like to call this variable `browser` — call it whatever you like!"
   ]
  },
  {
   "cell_type": "markdown",
   "id": "f8022c51-3ebd-42e3-b16c-bd6f7415b139",
   "metadata": {},
   "source": [
    "## Open the website"
   ]
  },
  {
   "cell_type": "code",
   "execution_count": 5,
   "id": "51d44ee5-6be6-4c5a-8810-8f2ffaaab3de",
   "metadata": {},
   "outputs": [],
   "source": [
    "# Navigate to a URL\n",
    "driver.get('https://publicrecords.alameda.courts.ca.gov/CalendarSearch/')"
   ]
  },
  {
   "cell_type": "markdown",
   "id": "fb0f2027-925b-48ba-ab46-d1c2f5131082",
   "metadata": {},
   "source": [
    "## Find the inputs you want to interact with\n",
    "\n",
    "In last week's lecture, we used Beautiful Soup to find elements on a page. Because we want to interact with elements within Selenium's automated browser, we need to use Selenium to find elements. \n",
    "\n",
    "Tips:\n",
    "- If you want to interact with the page, use selenium\n",
    "- If you want to read or parse complex HTML, use bs4\n",
    "\n",
    "You'll use `By` to indicate how the browser will pinpoint your element. These are the [different options for `By`](https://www.selenium.dev/selenium/docs/api/py/webdriver/selenium.webdriver.common.by.html):\n",
    "\n",
    "- `CLASS_NAME`\n",
    "- `CSS_SELECTOR` (e.g. a pseudo-element)\n",
    "- `ID`\n",
    "- `LINK_TEXT` (the text inside <a> tags)\n",
    "- `NAME`\n",
    "- `PARTIAL_LINK_TEXT` (the text inside <a> tags)\n",
    "- `TAG_NAME`\n",
    "- `XPATH` (when the element doesn't have a unique identifer, you can still pinpoint with this method; Chrome has a cool way to grab the xpath of an item in Developer Tools)\n",
    "\n",
    "Luckily, the date fields have IDs, so we can select them this way:"
   ]
  },
  {
   "cell_type": "code",
   "execution_count": 6,
   "id": "96297862-07a0-41c7-ae7d-e8da85812b16",
   "metadata": {},
   "outputs": [],
   "source": [
    "hearing_date_from = driver.find_element(By.ID, 'FeaturedContent_txtFromdt')\n",
    "hearing_date_to   = driver.find_element(By.ID, 'FeaturedContent_txtTodt')"
   ]
  },
  {
   "cell_type": "markdown",
   "id": "87cc2a5b-1ff9-48a4-9f52-538c1fcf715f",
   "metadata": {},
   "source": [
    "You can use `type()` to find out whether a variable is a selenium object or a bs4 object."
   ]
  },
  {
   "cell_type": "code",
   "execution_count": 7,
   "id": "017e6918-d542-4484-883c-e9dbe47d2b8d",
   "metadata": {},
   "outputs": [
    {
     "data": {
      "text/plain": [
       "selenium.webdriver.remote.webelement.WebElement"
      ]
     },
     "execution_count": 7,
     "metadata": {},
     "output_type": "execute_result"
    }
   ],
   "source": [
    "type(hearing_date_from)"
   ]
  },
  {
   "cell_type": "markdown",
   "id": "9d790d0e-95d9-467e-8dbf-b7fef5410023",
   "metadata": {},
   "source": [
    "## Input dates into the dropdowns\n",
    "\n",
    "Use selenium's `send_keys()` method to input text into the date dropdowns."
   ]
  },
  {
   "cell_type": "code",
   "execution_count": 8,
   "id": "5addde64-403f-4600-8852-8fe902f7dfed",
   "metadata": {},
   "outputs": [],
   "source": [
    "hearing_date_from.send_keys('12/06/2021')\n",
    "hearing_date_to.send_keys('12/06/2021')"
   ]
  },
  {
   "cell_type": "markdown",
   "id": "261c726b-d004-40ef-b4c6-b64a04916fe6",
   "metadata": {},
   "source": [
    "## \"Click\" on the submit button\n",
    "\n",
    "First, you'll have to find the element by its `id` value, then `click()` on it."
   ]
  },
  {
   "cell_type": "code",
   "execution_count": 9,
   "id": "61ba8544-cb94-4e3f-9bad-9e208fde2217",
   "metadata": {},
   "outputs": [],
   "source": [
    "submit_button = driver.find_element(By.ID, 'FeaturedContent_btFind')"
   ]
  },
  {
   "cell_type": "code",
   "execution_count": 10,
   "id": "e1f698a3-fef1-4179-bf13-14dfbf6425f1",
   "metadata": {},
   "outputs": [],
   "source": [
    "submit_button.click()"
   ]
  },
  {
   "cell_type": "markdown",
   "id": "d0e95347-add9-41af-a5cf-080511c26b20",
   "metadata": {},
   "source": [
    "Below, I'm telling the computer to wait 5 seconds before executing the next line of code. That way the browser can finish loading the page before continuing with the code. That's crucial if I end up restarting this notebook kernel and running all cells at once. We want the browser to finish loading the page because some elements might not exist until the element exists. "
   ]
  },
  {
   "cell_type": "code",
   "execution_count": 11,
   "id": "91ca4916-42d2-4485-8a10-64bd11ce80b7",
   "metadata": {},
   "outputs": [],
   "source": [
    "time.sleep(5)"
   ]
  },
  {
   "cell_type": "markdown",
   "id": "d5801390-12ac-4183-bb4f-b2435809f9fb",
   "metadata": {},
   "source": [
    "There are better ways to wait for elements on a page. Check out the documentation to read more about [WebDriverWait()](https://selenium-python.readthedocs.io/waits.html)."
   ]
  },
  {
   "cell_type": "markdown",
   "id": "29fc2e2a-63e3-40b0-86f1-5372fe067b43",
   "metadata": {},
   "source": [
    "## \"Select\" more rows to view\n",
    "\n",
    "When you  get your search results, the courts show only 10 rows at a time. It'll be faster to scrape all the results if you can show the max amount of rows at a time (which is 50)."
   ]
  },
  {
   "cell_type": "code",
   "execution_count": 12,
   "id": "4b0b8b37-6bc6-4ac2-bf1e-0e993eed01c1",
   "metadata": {},
   "outputs": [],
   "source": [
    "displayed_rows_dropdown = Select(driver.find_element(By.NAME, 'ctl00$MainContent$gvResult$ctl13$ctl13'))"
   ]
  },
  {
   "cell_type": "code",
   "execution_count": 13,
   "id": "0e6ab44f-97d6-4800-a5f4-2223fdd04ecd",
   "metadata": {},
   "outputs": [],
   "source": [
    "displayed_rows_dropdown.select_by_visible_text('50')"
   ]
  },
  {
   "cell_type": "markdown",
   "id": "ada65fef-2473-4193-a1c2-2bc2a9dd3e54",
   "metadata": {},
   "source": [
    "## Get the count of results so you know how many pages you have to scrape\n",
    "\n",
    "Even though I'm parsing HTML below, I'm using Selenium instead of Beautiful Soup. I'm doing this because I haven't called Beautiful Soup yet and Selenium is capable of parsing."
   ]
  },
  {
   "cell_type": "code",
   "execution_count": 14,
   "id": "4e27dffa-93cf-4188-8dd9-2736fc0f62f5",
   "metadata": {},
   "outputs": [
    {
     "data": {
      "text/plain": [
       "1395"
      ]
     },
     "execution_count": 14,
     "metadata": {},
     "output_type": "execute_result"
    }
   ],
   "source": [
    "records_count_container = driver.find_element(By.ID, 'MainContent_lbCnt')\n",
    "records_count = records_count_container.text.split()\n",
    "records_count = records_count[len(records_count) - 1]\n",
    "records_count = int(records_count)\n",
    "records_count"
   ]
  },
  {
   "cell_type": "code",
   "execution_count": 15,
   "id": "97c322cf-5741-420e-a757-f9485a6facf6",
   "metadata": {},
   "outputs": [
    {
     "data": {
      "text/plain": [
       "28"
      ]
     },
     "execution_count": 15,
     "metadata": {},
     "output_type": "execute_result"
    }
   ],
   "source": [
    "pages_to_check = math.ceil(records_count/50)\n",
    "pages_to_check"
   ]
  },
  {
   "cell_type": "markdown",
   "id": "14e1ea78-2afb-4f2e-abea-907aec07d699",
   "metadata": {},
   "source": [
    "## Figure out how to loop through the pages"
   ]
  },
  {
   "cell_type": "code",
   "execution_count": 16,
   "id": "cada0c2d-e18a-4669-ad16-598b20e3c126",
   "metadata": {},
   "outputs": [],
   "source": [
    "# find the \"Next\" link — it looks like \">\"\n",
    "next_button = driver.find_element(By.LINK_TEXT, '>')\n",
    "next_button.click()"
   ]
  },
  {
   "cell_type": "markdown",
   "id": "59ba0039-ac3e-42e9-ae04-6887f3a1ddb2",
   "metadata": {},
   "source": [
    "The below code is commented out because I don't want you to run it yet. But, you can see how one could flip through all the pages of this site."
   ]
  },
  {
   "cell_type": "code",
   "execution_count": 17,
   "id": "5412010b-5e02-4647-8795-01f837c3eeb7",
   "metadata": {},
   "outputs": [],
   "source": [
    "# for n in range(pages_to_check):\n",
    "#     next_button = driver.find_element(By.LINK_TEXT, '>')\n",
    "#     next_button.click()\n",
    "    \n",
    "#     # wait 2 seconds\n",
    "#     time.sleep(2)"
   ]
  },
  {
   "cell_type": "markdown",
   "id": "15d3a7a8-832b-4344-9ed4-ef49cd21eff2",
   "metadata": {},
   "source": [
    "You can manually get back to the first page by going to the \"automated\" browser and clicking \"1\"."
   ]
  },
  {
   "cell_type": "markdown",
   "id": "03253d14-6b6b-4644-99a5-a0b2348a8450",
   "metadata": {},
   "source": [
    "## Parse the first page of results with Beautiful Soup\n",
    "\n",
    "Now I'm going to switch to using Beautiful Soup because it's the best program to parse through a lot of HTML."
   ]
  },
  {
   "cell_type": "markdown",
   "id": "a64547ad-1518-4a28-bd85-14297bf371be",
   "metadata": {},
   "source": [
    "### Get the table by its `id`"
   ]
  },
  {
   "cell_type": "code",
   "execution_count": 18,
   "id": "66b35a1b-9c09-4044-9df4-50609a5928db",
   "metadata": {},
   "outputs": [],
   "source": [
    "soup = BeautifulSoup(driver.page_source, 'html.parser')\n",
    "table = soup.find(id='MainContent_gvResult')"
   ]
  },
  {
   "cell_type": "code",
   "execution_count": 19,
   "id": "43801039-715c-4829-9e93-128c46731de2",
   "metadata": {},
   "outputs": [],
   "source": [
    "# table"
   ]
  },
  {
   "cell_type": "markdown",
   "id": "05025cc7-7bfb-465d-83c7-856a4386b4f7",
   "metadata": {
    "tags": []
   },
   "source": [
    "Each row of this table is a unique something. I'm not sure what that something is. It might not be a unique case. It might be something else. I'm not going to assume. Anyway, I'd like to transfer this table into a pandas dataframe.\n",
    "\n",
    "### Create your blank dataframe"
   ]
  },
  {
   "cell_type": "code",
   "execution_count": 20,
   "id": "692906ba-4160-44e5-b8af-b1916dc006f7",
   "metadata": {},
   "outputs": [],
   "source": [
    "hearings = pd.DataFrame(\n",
    "    columns=[\n",
    "        'Serial No.',\n",
    "        'Name',\n",
    "        'Case #',\n",
    "        'PFN',\n",
    "        'CEN',\n",
    "        'Dept#',\n",
    "        'Hearing Date',\n",
    "        'Hearing Time',\n",
    "        'Hearing Type',\n",
    "        'Case Type',\n",
    "        'Defense Atty',\n",
    "        'DA'\n",
    "    ])"
   ]
  },
  {
   "cell_type": "markdown",
   "id": "da4aba77-4402-4018-8bf0-ae297d2d37eb",
   "metadata": {},
   "source": [
    "### Parse the table and put the data into a dataframe\n",
    "\n",
    "Let's go over each section below manually before running."
   ]
  },
  {
   "cell_type": "code",
   "execution_count": 21,
   "id": "ad675020-0433-4c00-8f15-ca3531a8da43",
   "metadata": {},
   "outputs": [
    {
     "data": {
      "text/html": [
       "<div>\n",
       "<style scoped>\n",
       "    .dataframe tbody tr th:only-of-type {\n",
       "        vertical-align: middle;\n",
       "    }\n",
       "\n",
       "    .dataframe tbody tr th {\n",
       "        vertical-align: top;\n",
       "    }\n",
       "\n",
       "    .dataframe thead th {\n",
       "        text-align: right;\n",
       "    }\n",
       "</style>\n",
       "<table border=\"1\" class=\"dataframe\">\n",
       "  <thead>\n",
       "    <tr style=\"text-align: right;\">\n",
       "      <th></th>\n",
       "      <th>Serial No.</th>\n",
       "      <th>Name</th>\n",
       "      <th>Case #</th>\n",
       "      <th>PFN</th>\n",
       "      <th>CEN</th>\n",
       "      <th>Dept#</th>\n",
       "      <th>Hearing Date</th>\n",
       "      <th>Hearing Time</th>\n",
       "      <th>Hearing Type</th>\n",
       "      <th>Case Type</th>\n",
       "      <th>Defense Atty</th>\n",
       "      <th>DA</th>\n",
       "    </tr>\n",
       "  </thead>\n",
       "  <tbody>\n",
       "    <tr>\n",
       "      <th>0</th>\n",
       "      <td>1</td>\n",
       "      <td>FOSTER, JIMMIE LEE</td>\n",
       "      <td>167627</td>\n",
       "      <td>AYO984</td>\n",
       "      <td>1340030</td>\n",
       "      <td></td>\n",
       "      <td>12/06/2021</td>\n",
       "      <td>9:00AM</td>\n",
       "      <td>Hearing</td>\n",
       "      <td>Felony</td>\n",
       "      <td></td>\n",
       "      <td></td>\n",
       "    </tr>\n",
       "    <tr>\n",
       "      <th>1</th>\n",
       "      <td>2</td>\n",
       "      <td>THOMAS, MARKEL</td>\n",
       "      <td>410407</td>\n",
       "      <td>BGN192</td>\n",
       "      <td>8324445</td>\n",
       "      <td></td>\n",
       "      <td>12/06/2021</td>\n",
       "      <td>9:00AM</td>\n",
       "      <td>Hearing</td>\n",
       "      <td>Misdemeanor/Infractions</td>\n",
       "      <td></td>\n",
       "      <td></td>\n",
       "    </tr>\n",
       "    <tr>\n",
       "      <th>2</th>\n",
       "      <td>3</td>\n",
       "      <td>MOORE, MARIA</td>\n",
       "      <td>18-CR-019696B</td>\n",
       "      <td>BMD439</td>\n",
       "      <td>8418630</td>\n",
       "      <td>002</td>\n",
       "      <td>12/06/2021</td>\n",
       "      <td>8:30AM</td>\n",
       "      <td>Further Jury Trial</td>\n",
       "      <td>Felony</td>\n",
       "      <td>Darryl Antonio Stallworth</td>\n",
       "      <td>Alexander Hernandez</td>\n",
       "    </tr>\n",
       "    <tr>\n",
       "      <th>3</th>\n",
       "      <td>4</td>\n",
       "      <td>SALVANT, MARVEL</td>\n",
       "      <td>18-CR-019696A</td>\n",
       "      <td>BMD440</td>\n",
       "      <td>8418631</td>\n",
       "      <td>002</td>\n",
       "      <td>12/06/2021</td>\n",
       "      <td>8:30AM</td>\n",
       "      <td>Further Jury Trial</td>\n",
       "      <td>Felony</td>\n",
       "      <td>Christina Marie Moore</td>\n",
       "      <td>Alexander Hernandez</td>\n",
       "    </tr>\n",
       "    <tr>\n",
       "      <th>4</th>\n",
       "      <td>5</td>\n",
       "      <td>STANDLEY, CURTIS RICHARD</td>\n",
       "      <td>17-CR-027648</td>\n",
       "      <td>BGT167</td>\n",
       "      <td>7831868</td>\n",
       "      <td>003</td>\n",
       "      <td>12/06/2021</td>\n",
       "      <td>8:30AM</td>\n",
       "      <td>Further Jury Trial</td>\n",
       "      <td>Felony</td>\n",
       "      <td>Anne Catherine Beles</td>\n",
       "      <td>Angelina Lisa Clay</td>\n",
       "    </tr>\n",
       "    <tr>\n",
       "      <th>5</th>\n",
       "      <td>6</td>\n",
       "      <td>STANDLEY, CURTIS RICHARD</td>\n",
       "      <td>178554A</td>\n",
       "      <td>BGT167</td>\n",
       "      <td>6294134</td>\n",
       "      <td>003</td>\n",
       "      <td>12/06/2021</td>\n",
       "      <td>8:30AM</td>\n",
       "      <td>Hearing After Revocation of Probation</td>\n",
       "      <td>Felony</td>\n",
       "      <td>David Emmett Klaus</td>\n",
       "      <td>John Norman Creighton</td>\n",
       "    </tr>\n",
       "    <tr>\n",
       "      <th>6</th>\n",
       "      <td>7</td>\n",
       "      <td>WATSON, WILL ANTHONY</td>\n",
       "      <td>17-CR-003246</td>\n",
       "      <td>BLJ096</td>\n",
       "      <td>7803487</td>\n",
       "      <td>005</td>\n",
       "      <td>12/06/2021</td>\n",
       "      <td>8:30AM</td>\n",
       "      <td>Further Jury Trial</td>\n",
       "      <td>Felony</td>\n",
       "      <td>Hugo Ernesto Castillo</td>\n",
       "      <td>Christopher David Cavagnaro</td>\n",
       "    </tr>\n",
       "    <tr>\n",
       "      <th>7</th>\n",
       "      <td>8</td>\n",
       "      <td>CASTRO, FREDY AMAYA</td>\n",
       "      <td>20-CR-011202</td>\n",
       "      <td>BEU230</td>\n",
       "      <td>0503818</td>\n",
       "      <td>006</td>\n",
       "      <td>12/06/2021</td>\n",
       "      <td>8:30AM</td>\n",
       "      <td>Bail Hearing</td>\n",
       "      <td>Felony</td>\n",
       "      <td>Madeline Maria Zepeda</td>\n",
       "      <td>William Matthew Layne</td>\n",
       "    </tr>\n",
       "    <tr>\n",
       "      <th>8</th>\n",
       "      <td>9</td>\n",
       "      <td>CRAWFORD, LAMAR LEEJORDAN</td>\n",
       "      <td>20-CR-010100</td>\n",
       "      <td>DTC648</td>\n",
       "      <td>0501382</td>\n",
       "      <td>006</td>\n",
       "      <td>12/06/2021</td>\n",
       "      <td>8:30AM</td>\n",
       "      <td>Bail Bond Motion</td>\n",
       "      <td>Felony</td>\n",
       "      <td></td>\n",
       "      <td>William Matthew Layne</td>\n",
       "    </tr>\n",
       "    <tr>\n",
       "      <th>9</th>\n",
       "      <td>10</td>\n",
       "      <td>ELLIS, ANTOINE MARQUIS</td>\n",
       "      <td>18-CR-019861</td>\n",
       "      <td>BCV669</td>\n",
       "      <td>8418862</td>\n",
       "      <td>006</td>\n",
       "      <td>12/06/2021</td>\n",
       "      <td>8:30AM</td>\n",
       "      <td>Motion pursuant to 995PC</td>\n",
       "      <td>Felony</td>\n",
       "      <td>Ernesto H. Castillo</td>\n",
       "      <td>Charles Francis Bisesto</td>\n",
       "    </tr>\n",
       "    <tr>\n",
       "      <th>10</th>\n",
       "      <td>12345678910...&gt;Last&gt;&gt;Rows:\\n10\\n20\\n50</td>\n",
       "      <td>1</td>\n",
       "      <td>2</td>\n",
       "      <td>3</td>\n",
       "      <td>4</td>\n",
       "      <td>5</td>\n",
       "      <td>6</td>\n",
       "      <td>7</td>\n",
       "      <td>8</td>\n",
       "      <td>9</td>\n",
       "      <td>10</td>\n",
       "      <td>...</td>\n",
       "    </tr>\n",
       "    <tr>\n",
       "      <th>11</th>\n",
       "      <td>1</td>\n",
       "      <td>2</td>\n",
       "      <td>3</td>\n",
       "      <td>4</td>\n",
       "      <td>5</td>\n",
       "      <td>6</td>\n",
       "      <td>7</td>\n",
       "      <td>8</td>\n",
       "      <td>9</td>\n",
       "      <td>10</td>\n",
       "      <td>...</td>\n",
       "      <td>&gt;</td>\n",
       "    </tr>\n",
       "  </tbody>\n",
       "</table>\n",
       "</div>"
      ],
      "text/plain": [
       "                                Serial No.                       Name  \\\n",
       "0                                        1         FOSTER, JIMMIE LEE   \n",
       "1                                        2             THOMAS, MARKEL   \n",
       "2                                        3               MOORE, MARIA   \n",
       "3                                        4            SALVANT, MARVEL   \n",
       "4                                        5   STANDLEY, CURTIS RICHARD   \n",
       "5                                        6   STANDLEY, CURTIS RICHARD   \n",
       "6                                        7       WATSON, WILL ANTHONY   \n",
       "7                                        8        CASTRO, FREDY AMAYA   \n",
       "8                                        9  CRAWFORD, LAMAR LEEJORDAN   \n",
       "9                                       10     ELLIS, ANTOINE MARQUIS   \n",
       "10  12345678910...>Last>>Rows:\\n10\\n20\\n50                          1   \n",
       "11                                       1                          2   \n",
       "\n",
       "           Case #     PFN      CEN Dept# Hearing Date Hearing Time  \\\n",
       "0          167627  AYO984  1340030         12/06/2021       9:00AM   \n",
       "1          410407  BGN192  8324445         12/06/2021       9:00AM   \n",
       "2   18-CR-019696B  BMD439  8418630   002   12/06/2021       8:30AM   \n",
       "3   18-CR-019696A  BMD440  8418631   002   12/06/2021       8:30AM   \n",
       "4    17-CR-027648  BGT167  7831868   003   12/06/2021       8:30AM   \n",
       "5         178554A  BGT167  6294134   003   12/06/2021       8:30AM   \n",
       "6    17-CR-003246  BLJ096  7803487   005   12/06/2021       8:30AM   \n",
       "7    20-CR-011202  BEU230  0503818   006   12/06/2021       8:30AM   \n",
       "8    20-CR-010100  DTC648  0501382   006   12/06/2021       8:30AM   \n",
       "9    18-CR-019861  BCV669  8418862   006   12/06/2021       8:30AM   \n",
       "10              2       3        4     5            6            7   \n",
       "11              3       4        5     6            7            8   \n",
       "\n",
       "                             Hearing Type                Case Type  \\\n",
       "0                                 Hearing                   Felony   \n",
       "1                                 Hearing  Misdemeanor/Infractions   \n",
       "2                      Further Jury Trial                   Felony   \n",
       "3                      Further Jury Trial                   Felony   \n",
       "4                      Further Jury Trial                   Felony   \n",
       "5   Hearing After Revocation of Probation                   Felony   \n",
       "6                      Further Jury Trial                   Felony   \n",
       "7                            Bail Hearing                   Felony   \n",
       "8                        Bail Bond Motion                   Felony   \n",
       "9                Motion pursuant to 995PC                   Felony   \n",
       "10                                      8                        9   \n",
       "11                                      9                       10   \n",
       "\n",
       "                 Defense Atty                           DA  \n",
       "0                                                           \n",
       "1                                                           \n",
       "2   Darryl Antonio Stallworth          Alexander Hernandez  \n",
       "3       Christina Marie Moore          Alexander Hernandez  \n",
       "4        Anne Catherine Beles           Angelina Lisa Clay  \n",
       "5          David Emmett Klaus        John Norman Creighton  \n",
       "6       Hugo Ernesto Castillo  Christopher David Cavagnaro  \n",
       "7       Madeline Maria Zepeda        William Matthew Layne  \n",
       "8                                    William Matthew Layne  \n",
       "9         Ernesto H. Castillo      Charles Francis Bisesto  \n",
       "10                         10                          ...  \n",
       "11                        ...                            >  "
      ]
     },
     "execution_count": 21,
     "metadata": {},
     "output_type": "execute_result"
    }
   ],
   "source": [
    "# create a simple `page_data` list to store the page data before we make a pandas dataframe\n",
    "page_data = []\n",
    "rows = table.find_all('tr')\n",
    "\n",
    "# we haven't used enumerate() yet but basically that just allows you to index an iterable\n",
    "for i, row in enumerate(rows):\n",
    "\n",
    "    # we can skip the first row because that's the header row\n",
    "    # we can also skip any row greater than index 50 because that has the page numbers\n",
    "    if (i > 0) and (i <= 50):\n",
    "    \n",
    "        # `cells` will get and index all the cells within a row\n",
    "        cells = row.find_all('td')\n",
    "        page_data.append({\n",
    "            'Serial No.' : cells[0].text.strip(),\n",
    "            'Name' : cells[1].text.strip(), \n",
    "            'Case #' : cells[2].text.strip(), \n",
    "            'PFN' : cells[3].text.strip(), \n",
    "            'CEN' : cells[4].text.strip(), \n",
    "            'Dept#' : cells[5].text.strip(), \n",
    "            'Hearing Date' : cells[6].text.strip(), \n",
    "            'Hearing Time' : cells[7].text.strip(), \n",
    "            'Hearing Type' : cells[8].text.strip(), \n",
    "            'Case Type' : cells[9].text.strip(), \n",
    "            'Defense Atty' : cells[10].text.strip(), \n",
    "            'DA' : cells[11].text.strip()\n",
    "        })\n",
    "        \n",
    "# create a dataframe with `page_data`\n",
    "page_hearing = pd.DataFrame(page_data)\n",
    "page_hearing"
   ]
  },
  {
   "cell_type": "markdown",
   "id": "39398ae2-8d67-4be4-a092-7a307d206ad1",
   "metadata": {},
   "source": [
    "## Append `page_hearing` dataframe to main `hearings` dataframe"
   ]
  },
  {
   "cell_type": "code",
   "execution_count": 22,
   "id": "b4b90c8c-739a-471f-95b5-f810382c427f",
   "metadata": {},
   "outputs": [],
   "source": [
    "hearings = hearings.append(page_hearing).reset_index(drop=True)"
   ]
  },
  {
   "cell_type": "markdown",
   "id": "89da8289-a802-480f-9f87-a7417bb81864",
   "metadata": {},
   "source": [
    "## View dataframe"
   ]
  },
  {
   "cell_type": "code",
   "execution_count": 23,
   "id": "6e3fdbf2-dabe-4acb-bfcb-9b7ad95846af",
   "metadata": {},
   "outputs": [
    {
     "data": {
      "text/html": [
       "<div>\n",
       "<style scoped>\n",
       "    .dataframe tbody tr th:only-of-type {\n",
       "        vertical-align: middle;\n",
       "    }\n",
       "\n",
       "    .dataframe tbody tr th {\n",
       "        vertical-align: top;\n",
       "    }\n",
       "\n",
       "    .dataframe thead th {\n",
       "        text-align: right;\n",
       "    }\n",
       "</style>\n",
       "<table border=\"1\" class=\"dataframe\">\n",
       "  <thead>\n",
       "    <tr style=\"text-align: right;\">\n",
       "      <th></th>\n",
       "      <th>Serial No.</th>\n",
       "      <th>Name</th>\n",
       "      <th>Case #</th>\n",
       "      <th>PFN</th>\n",
       "      <th>CEN</th>\n",
       "      <th>Dept#</th>\n",
       "      <th>Hearing Date</th>\n",
       "      <th>Hearing Time</th>\n",
       "      <th>Hearing Type</th>\n",
       "      <th>Case Type</th>\n",
       "      <th>Defense Atty</th>\n",
       "      <th>DA</th>\n",
       "    </tr>\n",
       "  </thead>\n",
       "  <tbody>\n",
       "    <tr>\n",
       "      <th>0</th>\n",
       "      <td>1</td>\n",
       "      <td>FOSTER, JIMMIE LEE</td>\n",
       "      <td>167627</td>\n",
       "      <td>AYO984</td>\n",
       "      <td>1340030</td>\n",
       "      <td></td>\n",
       "      <td>12/06/2021</td>\n",
       "      <td>9:00AM</td>\n",
       "      <td>Hearing</td>\n",
       "      <td>Felony</td>\n",
       "      <td></td>\n",
       "      <td></td>\n",
       "    </tr>\n",
       "    <tr>\n",
       "      <th>1</th>\n",
       "      <td>2</td>\n",
       "      <td>THOMAS, MARKEL</td>\n",
       "      <td>410407</td>\n",
       "      <td>BGN192</td>\n",
       "      <td>8324445</td>\n",
       "      <td></td>\n",
       "      <td>12/06/2021</td>\n",
       "      <td>9:00AM</td>\n",
       "      <td>Hearing</td>\n",
       "      <td>Misdemeanor/Infractions</td>\n",
       "      <td></td>\n",
       "      <td></td>\n",
       "    </tr>\n",
       "    <tr>\n",
       "      <th>2</th>\n",
       "      <td>3</td>\n",
       "      <td>MOORE, MARIA</td>\n",
       "      <td>18-CR-019696B</td>\n",
       "      <td>BMD439</td>\n",
       "      <td>8418630</td>\n",
       "      <td>002</td>\n",
       "      <td>12/06/2021</td>\n",
       "      <td>8:30AM</td>\n",
       "      <td>Further Jury Trial</td>\n",
       "      <td>Felony</td>\n",
       "      <td>Darryl Antonio Stallworth</td>\n",
       "      <td>Alexander Hernandez</td>\n",
       "    </tr>\n",
       "    <tr>\n",
       "      <th>3</th>\n",
       "      <td>4</td>\n",
       "      <td>SALVANT, MARVEL</td>\n",
       "      <td>18-CR-019696A</td>\n",
       "      <td>BMD440</td>\n",
       "      <td>8418631</td>\n",
       "      <td>002</td>\n",
       "      <td>12/06/2021</td>\n",
       "      <td>8:30AM</td>\n",
       "      <td>Further Jury Trial</td>\n",
       "      <td>Felony</td>\n",
       "      <td>Christina Marie Moore</td>\n",
       "      <td>Alexander Hernandez</td>\n",
       "    </tr>\n",
       "    <tr>\n",
       "      <th>4</th>\n",
       "      <td>5</td>\n",
       "      <td>STANDLEY, CURTIS RICHARD</td>\n",
       "      <td>17-CR-027648</td>\n",
       "      <td>BGT167</td>\n",
       "      <td>7831868</td>\n",
       "      <td>003</td>\n",
       "      <td>12/06/2021</td>\n",
       "      <td>8:30AM</td>\n",
       "      <td>Further Jury Trial</td>\n",
       "      <td>Felony</td>\n",
       "      <td>Anne Catherine Beles</td>\n",
       "      <td>Angelina Lisa Clay</td>\n",
       "    </tr>\n",
       "    <tr>\n",
       "      <th>5</th>\n",
       "      <td>6</td>\n",
       "      <td>STANDLEY, CURTIS RICHARD</td>\n",
       "      <td>178554A</td>\n",
       "      <td>BGT167</td>\n",
       "      <td>6294134</td>\n",
       "      <td>003</td>\n",
       "      <td>12/06/2021</td>\n",
       "      <td>8:30AM</td>\n",
       "      <td>Hearing After Revocation of Probation</td>\n",
       "      <td>Felony</td>\n",
       "      <td>David Emmett Klaus</td>\n",
       "      <td>John Norman Creighton</td>\n",
       "    </tr>\n",
       "    <tr>\n",
       "      <th>6</th>\n",
       "      <td>7</td>\n",
       "      <td>WATSON, WILL ANTHONY</td>\n",
       "      <td>17-CR-003246</td>\n",
       "      <td>BLJ096</td>\n",
       "      <td>7803487</td>\n",
       "      <td>005</td>\n",
       "      <td>12/06/2021</td>\n",
       "      <td>8:30AM</td>\n",
       "      <td>Further Jury Trial</td>\n",
       "      <td>Felony</td>\n",
       "      <td>Hugo Ernesto Castillo</td>\n",
       "      <td>Christopher David Cavagnaro</td>\n",
       "    </tr>\n",
       "    <tr>\n",
       "      <th>7</th>\n",
       "      <td>8</td>\n",
       "      <td>CASTRO, FREDY AMAYA</td>\n",
       "      <td>20-CR-011202</td>\n",
       "      <td>BEU230</td>\n",
       "      <td>0503818</td>\n",
       "      <td>006</td>\n",
       "      <td>12/06/2021</td>\n",
       "      <td>8:30AM</td>\n",
       "      <td>Bail Hearing</td>\n",
       "      <td>Felony</td>\n",
       "      <td>Madeline Maria Zepeda</td>\n",
       "      <td>William Matthew Layne</td>\n",
       "    </tr>\n",
       "    <tr>\n",
       "      <th>8</th>\n",
       "      <td>9</td>\n",
       "      <td>CRAWFORD, LAMAR LEEJORDAN</td>\n",
       "      <td>20-CR-010100</td>\n",
       "      <td>DTC648</td>\n",
       "      <td>0501382</td>\n",
       "      <td>006</td>\n",
       "      <td>12/06/2021</td>\n",
       "      <td>8:30AM</td>\n",
       "      <td>Bail Bond Motion</td>\n",
       "      <td>Felony</td>\n",
       "      <td></td>\n",
       "      <td>William Matthew Layne</td>\n",
       "    </tr>\n",
       "    <tr>\n",
       "      <th>9</th>\n",
       "      <td>10</td>\n",
       "      <td>ELLIS, ANTOINE MARQUIS</td>\n",
       "      <td>18-CR-019861</td>\n",
       "      <td>BCV669</td>\n",
       "      <td>8418862</td>\n",
       "      <td>006</td>\n",
       "      <td>12/06/2021</td>\n",
       "      <td>8:30AM</td>\n",
       "      <td>Motion pursuant to 995PC</td>\n",
       "      <td>Felony</td>\n",
       "      <td>Ernesto H. Castillo</td>\n",
       "      <td>Charles Francis Bisesto</td>\n",
       "    </tr>\n",
       "    <tr>\n",
       "      <th>10</th>\n",
       "      <td>12345678910...&gt;Last&gt;&gt;Rows:\\n10\\n20\\n50</td>\n",
       "      <td>1</td>\n",
       "      <td>2</td>\n",
       "      <td>3</td>\n",
       "      <td>4</td>\n",
       "      <td>5</td>\n",
       "      <td>6</td>\n",
       "      <td>7</td>\n",
       "      <td>8</td>\n",
       "      <td>9</td>\n",
       "      <td>10</td>\n",
       "      <td>...</td>\n",
       "    </tr>\n",
       "    <tr>\n",
       "      <th>11</th>\n",
       "      <td>1</td>\n",
       "      <td>2</td>\n",
       "      <td>3</td>\n",
       "      <td>4</td>\n",
       "      <td>5</td>\n",
       "      <td>6</td>\n",
       "      <td>7</td>\n",
       "      <td>8</td>\n",
       "      <td>9</td>\n",
       "      <td>10</td>\n",
       "      <td>...</td>\n",
       "      <td>&gt;</td>\n",
       "    </tr>\n",
       "  </tbody>\n",
       "</table>\n",
       "</div>"
      ],
      "text/plain": [
       "                                Serial No.                       Name  \\\n",
       "0                                        1         FOSTER, JIMMIE LEE   \n",
       "1                                        2             THOMAS, MARKEL   \n",
       "2                                        3               MOORE, MARIA   \n",
       "3                                        4            SALVANT, MARVEL   \n",
       "4                                        5   STANDLEY, CURTIS RICHARD   \n",
       "5                                        6   STANDLEY, CURTIS RICHARD   \n",
       "6                                        7       WATSON, WILL ANTHONY   \n",
       "7                                        8        CASTRO, FREDY AMAYA   \n",
       "8                                        9  CRAWFORD, LAMAR LEEJORDAN   \n",
       "9                                       10     ELLIS, ANTOINE MARQUIS   \n",
       "10  12345678910...>Last>>Rows:\\n10\\n20\\n50                          1   \n",
       "11                                       1                          2   \n",
       "\n",
       "           Case #     PFN      CEN Dept# Hearing Date Hearing Time  \\\n",
       "0          167627  AYO984  1340030         12/06/2021       9:00AM   \n",
       "1          410407  BGN192  8324445         12/06/2021       9:00AM   \n",
       "2   18-CR-019696B  BMD439  8418630   002   12/06/2021       8:30AM   \n",
       "3   18-CR-019696A  BMD440  8418631   002   12/06/2021       8:30AM   \n",
       "4    17-CR-027648  BGT167  7831868   003   12/06/2021       8:30AM   \n",
       "5         178554A  BGT167  6294134   003   12/06/2021       8:30AM   \n",
       "6    17-CR-003246  BLJ096  7803487   005   12/06/2021       8:30AM   \n",
       "7    20-CR-011202  BEU230  0503818   006   12/06/2021       8:30AM   \n",
       "8    20-CR-010100  DTC648  0501382   006   12/06/2021       8:30AM   \n",
       "9    18-CR-019861  BCV669  8418862   006   12/06/2021       8:30AM   \n",
       "10              2       3        4     5            6            7   \n",
       "11              3       4        5     6            7            8   \n",
       "\n",
       "                             Hearing Type                Case Type  \\\n",
       "0                                 Hearing                   Felony   \n",
       "1                                 Hearing  Misdemeanor/Infractions   \n",
       "2                      Further Jury Trial                   Felony   \n",
       "3                      Further Jury Trial                   Felony   \n",
       "4                      Further Jury Trial                   Felony   \n",
       "5   Hearing After Revocation of Probation                   Felony   \n",
       "6                      Further Jury Trial                   Felony   \n",
       "7                            Bail Hearing                   Felony   \n",
       "8                        Bail Bond Motion                   Felony   \n",
       "9                Motion pursuant to 995PC                   Felony   \n",
       "10                                      8                        9   \n",
       "11                                      9                       10   \n",
       "\n",
       "                 Defense Atty                           DA  \n",
       "0                                                           \n",
       "1                                                           \n",
       "2   Darryl Antonio Stallworth          Alexander Hernandez  \n",
       "3       Christina Marie Moore          Alexander Hernandez  \n",
       "4        Anne Catherine Beles           Angelina Lisa Clay  \n",
       "5          David Emmett Klaus        John Norman Creighton  \n",
       "6       Hugo Ernesto Castillo  Christopher David Cavagnaro  \n",
       "7       Madeline Maria Zepeda        William Matthew Layne  \n",
       "8                                    William Matthew Layne  \n",
       "9         Ernesto H. Castillo      Charles Francis Bisesto  \n",
       "10                         10                          ...  \n",
       "11                        ...                            >  "
      ]
     },
     "execution_count": 23,
     "metadata": {},
     "output_type": "execute_result"
    }
   ],
   "source": [
    "hearings"
   ]
  },
  {
   "cell_type": "code",
   "execution_count": 24,
   "id": "bf02c85b-06f4-4975-add7-e0382f256209",
   "metadata": {},
   "outputs": [
    {
     "ename": "KeyboardInterrupt",
     "evalue": "",
     "output_type": "error",
     "traceback": [
      "\u001b[0;31m---------------------------------------------------------------------------\u001b[0m",
      "\u001b[0;31mKeyboardInterrupt\u001b[0m                         Traceback (most recent call last)",
      "\u001b[0;32m/var/folders/1f/f5wgn2317617nk3jfln3btb00000gn/T/ipykernel_87964/1205874354.py\u001b[0m in \u001b[0;36m<module>\u001b[0;34m\u001b[0m\n\u001b[1;32m      2\u001b[0m     \u001b[0mnext_button\u001b[0m \u001b[0;34m=\u001b[0m \u001b[0mdriver\u001b[0m\u001b[0;34m.\u001b[0m\u001b[0mfind_element\u001b[0m\u001b[0;34m(\u001b[0m\u001b[0mBy\u001b[0m\u001b[0;34m.\u001b[0m\u001b[0mLINK_TEXT\u001b[0m\u001b[0;34m,\u001b[0m \u001b[0;34m'>'\u001b[0m\u001b[0;34m)\u001b[0m\u001b[0;34m\u001b[0m\u001b[0;34m\u001b[0m\u001b[0m\n\u001b[1;32m      3\u001b[0m     \u001b[0mnext_button\u001b[0m\u001b[0;34m.\u001b[0m\u001b[0mclick\u001b[0m\u001b[0;34m(\u001b[0m\u001b[0;34m)\u001b[0m\u001b[0;34m\u001b[0m\u001b[0;34m\u001b[0m\u001b[0m\n\u001b[0;32m----> 4\u001b[0;31m     \u001b[0mtime\u001b[0m\u001b[0;34m.\u001b[0m\u001b[0msleep\u001b[0m\u001b[0;34m(\u001b[0m\u001b[0;36m2\u001b[0m\u001b[0;34m)\u001b[0m\u001b[0;34m\u001b[0m\u001b[0;34m\u001b[0m\u001b[0m\n\u001b[0m",
      "\u001b[0;31mKeyboardInterrupt\u001b[0m: "
     ]
    }
   ],
   "source": [
    "for n in range(pages_to_check):\n",
    "    next_button = driver.find_element(By.LINK_TEXT, '>')\n",
    "    next_button.click()\n",
    "    time.sleep(2)"
   ]
  },
  {
   "cell_type": "markdown",
   "id": "92a2f758-4cf9-42d8-ab4b-417a61373bd4",
   "metadata": {},
   "source": [
    "## Addenda \n",
    "\n",
    "If I want to search for another date, I can stay on the same page and \"clear\" the date fields. Then I send send new dates."
   ]
  },
  {
   "cell_type": "code",
   "execution_count": null,
   "id": "ba2d6329-677a-4abd-874a-04e8f1187cfa",
   "metadata": {},
   "outputs": [],
   "source": [
    "hearing_date_from.clear()\n",
    "hearing_date_to.clear()\n",
    "\n",
    "hearing_date_from.send_keys('12/07/2021')\n",
    "hearing_date_to.send_keys('12/07/2021')"
   ]
  },
  {
   "cell_type": "markdown",
   "id": "05122477-0e31-466d-a6ad-ec14ade8dbf8",
   "metadata": {},
   "source": [
    "Once you're done using the automated browser, you can close it manually or run the following:"
   ]
  },
  {
   "cell_type": "code",
   "execution_count": null,
   "id": "037e7b25-d0a3-43a6-9996-c962ae65cc1d",
   "metadata": {},
   "outputs": [],
   "source": [
    "driver.close()"
   ]
  },
  {
   "cell_type": "markdown",
   "id": "73dc32ab-0016-4f96-acf3-ce7c621eb64d",
   "metadata": {},
   "source": [
    "## Classwork\n",
    "\n",
    "I'd like you to figure out how to loop through all the pages and collect all the information."
   ]
  },
  {
   "cell_type": "code",
   "execution_count": null,
   "id": "e7201ce0-f07a-4cac-93ed-45f03e567b22",
   "metadata": {},
   "outputs": [],
   "source": []
  }
 ],
 "metadata": {
  "kernelspec": {
   "display_name": "Python 3 (ipykernel)",
   "language": "python",
   "name": "python3"
  },
  "language_info": {
   "codemirror_mode": {
    "name": "ipython",
    "version": 3
   },
   "file_extension": ".py",
   "mimetype": "text/x-python",
   "name": "python",
   "nbconvert_exporter": "python",
   "pygments_lexer": "ipython3",
   "version": "3.8.5"
  },
  "toc": {
   "base_numbering": 1,
   "nav_menu": {},
   "number_sections": true,
   "sideBar": true,
   "skip_h1_title": true,
   "title_cell": "Table of Contents",
   "title_sidebar": "Contents",
   "toc_cell": true,
   "toc_position": {},
   "toc_section_display": true,
   "toc_window_display": true
  },
  "toc-autonumbering": false,
  "toc-showcode": false,
  "toc-showmarkdowntxt": false,
  "toc-showtags": false
 },
 "nbformat": 4,
 "nbformat_minor": 5
}
