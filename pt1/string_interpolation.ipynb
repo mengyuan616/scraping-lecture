{
 "cells": [
  {
   "cell_type": "markdown",
   "id": "cf5faa26-791d-4476-a0a7-dda7971e7c8c",
   "metadata": {},
   "source": [
    "# String formatting and interpolation\n",
    "\n",
    "Review Slide 51 in [Lecture](https://soooh.net/j233/slides/lecture_02.pdf)"
   ]
  },
  {
   "cell_type": "code",
   "execution_count": 2,
   "id": "e3cbfbe5-fe22-408b-bb80-2d1df884afd4",
   "metadata": {},
   "outputs": [],
   "source": [
    "lecturer_name = 'Soo'"
   ]
  },
  {
   "cell_type": "code",
   "execution_count": 4,
   "id": "916fb1a8-6670-41b3-8eb5-556369b51504",
   "metadata": {},
   "outputs": [],
   "source": [
    "# f-strings\n",
    "phrase = f'Hi, { lecturer_name }'"
   ]
  },
  {
   "cell_type": "code",
   "execution_count": 6,
   "id": "35bce0e3-c210-46f6-a57a-f99b74a548c4",
   "metadata": {},
   "outputs": [
    {
     "data": {
      "text/plain": [
       "'Hi, Soo'"
      ]
     },
     "execution_count": 6,
     "metadata": {},
     "output_type": "execute_result"
    }
   ],
   "source": [
    "phrase"
   ]
  },
  {
   "cell_type": "code",
   "execution_count": 5,
   "id": "fcb86ebc-d01b-47a4-a476-57c80d8c4fe6",
   "metadata": {},
   "outputs": [
    {
     "name": "stdout",
     "output_type": "stream",
     "text": [
      "Hi, Soo\n"
     ]
    }
   ],
   "source": [
    "print(phrase)"
   ]
  },
  {
   "cell_type": "code",
   "execution_count": null,
   "id": "3801c83a-cdfd-410d-b699-65eeee40a880",
   "metadata": {},
   "outputs": [],
   "source": []
  }
 ],
 "metadata": {
  "kernelspec": {
   "display_name": "Python 3 (ipykernel)",
   "language": "python",
   "name": "python3"
  },
  "language_info": {
   "codemirror_mode": {
    "name": "ipython",
    "version": 3
   },
   "file_extension": ".py",
   "mimetype": "text/x-python",
   "name": "python",
   "nbconvert_exporter": "python",
   "pygments_lexer": "ipython3",
   "version": "3.8.5"
  }
 },
 "nbformat": 4,
 "nbformat_minor": 5
}
