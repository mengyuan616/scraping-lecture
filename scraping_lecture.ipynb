{
 "cells": [
  {
   "cell_type": "markdown",
   "id": "a64e20e3-61de-49c5-8326-89d2b8f5dba7",
   "metadata": {},
   "source": [
    "# Scraping lecture\n",
    "\n",
    "We have some information about pages we want to scrape in a file called `bills.json`. The ultimate goal is to download the full text of each bill and count the number of words."
   ]
  },
  {
   "cell_type": "markdown",
   "id": "7c176b96-1c58-44a4-b0f0-0d3c50c9d907",
   "metadata": {},
   "source": [
    "## Import modules"
   ]
  },
  {
   "cell_type": "code",
<<<<<<< HEAD
   "execution_count": 2,
=======
   "execution_count": 1,
>>>>>>> 05a17733c6e50ee1a5e7d78e4fe55f581a9d783f
   "id": "a9e21e3f-d2d7-47b7-8327-b0b3d7d1900a",
   "metadata": {},
   "outputs": [],
   "source": [
    "# parse json file\n",
    "import json\n",
    "\n",
    "# what we need for scraping\n",
    "import requests # request HTTP\n",
    "from bs4 import BeautifulSoup # parse HTML\n",
    "\n",
    "# helpful modules for cleaning up text\n",
    "import re # regex\n",
    "import string\n",
    "\n",
    "# good ole pandas to structure our data\n",
    "import pandas as pd"
   ]
  },
  {
   "cell_type": "markdown",
   "id": "8cdbffaf-0b7b-4053-b182-58c77eeac5f5",
   "metadata": {},
   "source": [
    "## Bring in the data"
   ]
  },
  {
   "cell_type": "code",
<<<<<<< HEAD
   "execution_count": 3,
=======
   "execution_count": 2,
>>>>>>> 05a17733c6e50ee1a5e7d78e4fe55f581a9d783f
   "id": "a0f761fd-58c6-43df-809d-b20fe41823d5",
   "metadata": {},
   "outputs": [],
   "source": [
    "with open('bills.json') as file:\n",
    "    bills = json.load(file)"
   ]
  },
  {
   "cell_type": "markdown",
   "id": "bfb4c04c-956b-4aa6-9433-cbbcd68b12a8",
   "metadata": {},
   "source": [
    "I've commented out the below code because a lot of text gets printed out; watch the lecture screen to view the results."
   ]
  },
  {
   "cell_type": "code",
   "execution_count": 4,
   "id": "3d8efe38-4039-4022-9c17-dca4887f0723",
   "metadata": {},
   "outputs": [],
   "source": [
    "# # this is a way to 'pretty-print' a JSON file\n",
    "# print(json.dumps(bills, indent=2))"
   ]
  },
  {
   "cell_type": "code",
   "execution_count": 6,
   "id": "720a4973-37f8-4df8-a057-fe98a075ddef",
   "metadata": {},
   "outputs": [
    {
     "data": {
      "text/plain": [
       "40"
      ]
     },
     "execution_count": 6,
     "metadata": {},
     "output_type": "execute_result"
    }
   ],
   "source": [
    "len(bills)"
   ]
  },
  {
   "cell_type": "markdown",
   "id": "20969a0b-ff7f-4578-a42f-857607981e02",
   "metadata": {},
   "source": [
    "## Start with a test page\n",
    "\n",
    "We'll start with the first item in the `bills` list."
   ]
  },
  {
   "cell_type": "code",
<<<<<<< HEAD
   "execution_count": 7,
=======
   "execution_count": 5,
>>>>>>> 05a17733c6e50ee1a5e7d78e4fe55f581a9d783f
   "id": "aa9f96df-d688-48c3-89c4-0828fcfb628f",
   "metadata": {},
   "outputs": [
    {
     "data": {
      "text/plain": [
       "{'congress': 116,\n",
       " 'chamber': 'house',\n",
       " 'bill_url': 'https://www.congress.gov/bill/116th-congress/house-bill/133/text?r=1&s=3',\n",
       " 'bill_number': 133}"
      ]
     },
<<<<<<< HEAD
     "execution_count": 7,
=======
     "execution_count": 5,
>>>>>>> 05a17733c6e50ee1a5e7d78e4fe55f581a9d783f
     "metadata": {},
     "output_type": "execute_result"
    }
   ],
   "source": [
    "test_bill = bills[0]\n",
    "test_bill"
   ]
  },
  {
   "cell_type": "markdown",
   "id": "d4d292ff-858c-473e-bee0-db74820cb466",
   "metadata": {},
   "source": [
    "Create a variable called `test_url` that gets the value of `bill_url` from `test_bill`:"
   ]
  },
  {
   "cell_type": "code",
<<<<<<< HEAD
   "execution_count": 10,
=======
   "execution_count": 7,
>>>>>>> 05a17733c6e50ee1a5e7d78e4fe55f581a9d783f
   "id": "3ce8df20-e458-41c1-8dd0-38f35196cb39",
   "metadata": {},
   "outputs": [
    {
     "data": {
      "text/plain": [
       "'https://www.congress.gov/bill/116th-congress/house-bill/133/text?r=1&s=3'"
      ]
     },
<<<<<<< HEAD
     "execution_count": 10,
=======
     "execution_count": 7,
>>>>>>> 05a17733c6e50ee1a5e7d78e4fe55f581a9d783f
     "metadata": {},
     "output_type": "execute_result"
    }
   ],
   "source": [
<<<<<<< HEAD
    "# access the dictionary's key \n",
=======
>>>>>>> 05a17733c6e50ee1a5e7d78e4fe55f581a9d783f
    "test_url = test_bill['bill_url']\n",
    "test_url"
   ]
  },
  {
   "cell_type": "markdown",
   "id": "a6b0623f-f3b0-41dd-9db8-e6c208494107",
   "metadata": {},
   "source": [
    "Before we download this page, let's look at the HTML and see if we can find where the bill exists in the HTML."
   ]
  },
  {
   "cell_type": "markdown",
   "id": "37b3956e-b32c-406d-9502-354e93dd704a",
   "metadata": {},
   "source": [
    "### Request the url"
   ]
  },
  {
   "cell_type": "code",
<<<<<<< HEAD
   "execution_count": 11,
=======
   "execution_count": 8,
>>>>>>> 05a17733c6e50ee1a5e7d78e4fe55f581a9d783f
   "id": "77449459-c01d-4e6c-9a9a-576f6b8b787e",
   "metadata": {},
   "outputs": [],
   "source": [
    "test_page = requests.get(test_url)"
   ]
  },
  {
   "cell_type": "markdown",
   "id": "762ba2e3-860e-499a-90ca-79b8005dcf9b",
   "metadata": {},
   "source": [
    "### Save the HTML so we don't have to re-download it later\n",
    "\n",
    "If you're going to scrape tens or hundreds or thousands of URLs, it could be helpful to save the HTML so you don't have to re-download thousands of pages later. I don't want to clutter up this coding folder so I'm going to create a new directory to save all these pages.\n",
    "\n",
    "One very cool thing about Jupyter notebooks is that you can execute some basic terminal commands by using an exclamation point. Below, I'm going to create a new directory called 'pages'. When you use the `-p` flag, you won't get an error if the directory already exists."
   ]
  },
  {
   "cell_type": "code",
<<<<<<< HEAD
   "execution_count": 13,
=======
   "execution_count": 11,
>>>>>>> 05a17733c6e50ee1a5e7d78e4fe55f581a9d783f
   "id": "33d2a791-5d96-40e3-afa7-07857ec0e8b5",
   "metadata": {},
   "outputs": [],
   "source": [
    "!mkdir -p pages"
   ]
  },
  {
   "cell_type": "markdown",
   "id": "5595eba8-80bc-4b2c-bd63-d75f569505c9",
   "metadata": {},
   "source": [
    "I included `pages` in your `.gitignore` file — that means it'll save on your hard drive but it won't be pushed to git."
   ]
  },
  {
   "cell_type": "code",
   "execution_count": 15,
   "id": "06ebb52e-6a74-40a9-adc6-6782fe7eccf1",
   "metadata": {},
   "outputs": [],
   "source": [
    "# save the test page so i don't have to dl again\n",
<<<<<<< HEAD
    "# 'w' stands for 'write'\n",
    "with open('pages/test_page.html', 'w') as f:\n",
    "    f.write(test_page.text)"
=======
    "with open('pages/test_page.html', 'w') as file:\n",
    "    file.write(test_page.text)"
>>>>>>> 05a17733c6e50ee1a5e7d78e4fe55f581a9d783f
   ]
  },
  {
   "cell_type": "markdown",
   "id": "45133afc-c892-4a05-9cf9-3aa0ce84d5f7",
   "metadata": {},
   "source": [
    "### Parse the test page with Beautiful Soup\n",
    "\n",
    "We'll use Beautiful Soup's built-in html parser. This allows us to search for nested elements."
   ]
  },
  {
   "cell_type": "code",
<<<<<<< HEAD
   "execution_count": 16,
=======
   "execution_count": 12,
>>>>>>> 05a17733c6e50ee1a5e7d78e4fe55f581a9d783f
   "id": "552b657c-17b4-4f09-9c67-59b2f80612ac",
   "metadata": {},
   "outputs": [],
   "source": [
    "test_soup = BeautifulSoup(test_page.text, features='html.parser')"
   ]
  },
  {
   "cell_type": "markdown",
   "id": "a8033ad9-b3e2-449e-a5a5-abcd09c30616",
   "metadata": {},
   "source": [
    "_The following code is commented out because it outputs a LOT of text. Look at the screen during lecture to see what the output looks like._"
   ]
  },
  {
   "cell_type": "code",
   "execution_count": 14,
   "id": "67bcaeb1-6728-435b-aa0a-e86cfc9209ec",
   "metadata": {},
   "outputs": [],
   "source": [
    "# test_soup"
   ]
  },
  {
   "cell_type": "code",
   "execution_count": 15,
   "id": "6eb97f07-a96f-4cf6-9661-28e07011af5f",
   "metadata": {},
   "outputs": [
    {
     "data": {
      "text/plain": [
       "bs4.BeautifulSoup"
      ]
     },
     "execution_count": 15,
     "metadata": {},
     "output_type": "execute_result"
    }
   ],
   "source": [
    "type(test_soup)"
   ]
  },
  {
   "cell_type": "markdown",
   "id": "6e1de2d1-28ca-4e8c-8d52-8fe4516bf3eb",
   "metadata": {},
   "source": [
    "### Find and get what's inside `id='billTextContainer'`\n",
    "Because we know that all of a bill's text is contained within an element with the ID of 'billTextContainer', we can use bs4's `.find(id='')` method:"
   ]
  },
  {
   "cell_type": "code",
<<<<<<< HEAD
   "execution_count": 17,
=======
   "execution_count": 16,
>>>>>>> 05a17733c6e50ee1a5e7d78e4fe55f581a9d783f
   "id": "076feadb-21d2-4075-9004-56786d9a960b",
   "metadata": {},
   "outputs": [],
   "source": [
    "bill_text_container = test_soup.find(id='billTextContainer')"
   ]
  },
  {
   "cell_type": "markdown",
   "id": "ea9d15a7-fe10-415b-aa6b-dc69f350ea1d",
   "metadata": {},
   "source": [
    "Remember that the result is still a bs4 `type`:"
   ]
  },
  {
   "cell_type": "code",
<<<<<<< HEAD
   "execution_count": 18,
=======
   "execution_count": 17,
>>>>>>> 05a17733c6e50ee1a5e7d78e4fe55f581a9d783f
   "id": "05aaf141-884b-461a-aeb7-2338c1bed3da",
   "metadata": {},
   "outputs": [
    {
     "data": {
      "text/plain": [
       "bs4.element.Tag"
      ]
     },
<<<<<<< HEAD
     "execution_count": 18,
=======
     "execution_count": 17,
>>>>>>> 05a17733c6e50ee1a5e7d78e4fe55f581a9d783f
     "metadata": {},
     "output_type": "execute_result"
    }
   ],
   "source": [
    "type(bill_text_container)"
   ]
  },
  {
   "cell_type": "markdown",
   "id": "45fe1d7d-aabf-49ed-a40b-b6cc3b2e92df",
   "metadata": {},
   "source": [
    "_The following code is commented out because it outputs a LOT of text. Look at the screen during lecture to see what the output looks like._"
   ]
  },
  {
   "cell_type": "code",
   "execution_count": 19,
   "id": "80dce72e-c427-4d60-b691-fecdb1b18e0b",
   "metadata": {},
   "outputs": [],
   "source": [
    "# bill_text_container"
   ]
  },
  {
   "cell_type": "markdown",
   "id": "9f02c0c7-9637-4c2e-abfd-5ff0ef99cdfd",
   "metadata": {},
   "source": [
    "If we want to extract only the text, we'll use the bs4 method `.get_text()`:"
   ]
  },
  {
   "cell_type": "code",
<<<<<<< HEAD
   "execution_count": 19,
=======
   "execution_count": 20,
>>>>>>> 05a17733c6e50ee1a5e7d78e4fe55f581a9d783f
   "id": "e4a73264-6f96-4687-aa10-aebb1c25ca08",
   "metadata": {},
   "outputs": [],
   "source": [
    "bill_text = bill_text_container.get_text()"
   ]
  },
  {
   "cell_type": "markdown",
   "id": "1e59242f-fd73-4841-b6c5-eddc4cca606c",
   "metadata": {},
   "source": [
    "_The following code is commented out because it outputs a LOT of text. Look at the screen during lecture to see what the output looks like._"
   ]
  },
  {
   "cell_type": "code",
<<<<<<< HEAD
   "execution_count": 23,
=======
   "execution_count": 22,
>>>>>>> 05a17733c6e50ee1a5e7d78e4fe55f581a9d783f
   "id": "c8ef8dbd-c99f-4c0c-aa8f-52f93090aeb3",
   "metadata": {},
   "outputs": [],
   "source": [
    "# bill_text"
   ]
  },
  {
   "cell_type": "markdown",
   "id": "d2558702-b0d4-451c-8cbe-45dc4ed0b78c",
   "metadata": {},
   "source": [
    "What is the type of `bill_text`?"
   ]
  },
  {
   "cell_type": "code",
<<<<<<< HEAD
   "execution_count": 21,
=======
   "execution_count": 23,
>>>>>>> 05a17733c6e50ee1a5e7d78e4fe55f581a9d783f
   "id": "8330deca-0a50-45fc-9e5a-31a6094141c6",
   "metadata": {},
   "outputs": [
    {
     "data": {
      "text/plain": [
       "str"
      ]
     },
<<<<<<< HEAD
     "execution_count": 21,
=======
     "execution_count": 23,
>>>>>>> 05a17733c6e50ee1a5e7d78e4fe55f581a9d783f
     "metadata": {},
     "output_type": "execute_result"
    }
   ],
   "source": [
    "type(bill_text)"
   ]
  },
  {
   "cell_type": "code",
   "execution_count": 24,
   "id": "c98546b6-975a-4ae4-bbde-ae322297c6ae",
   "metadata": {},
   "outputs": [
    {
     "data": {
      "text/plain": [
       "7692027"
      ]
     },
     "execution_count": 24,
     "metadata": {},
     "output_type": "execute_result"
    }
   ],
   "source": [
    "len(bill_text)"
   ]
  },
  {
   "cell_type": "code",
   "execution_count": 28,
   "id": "afa3b6df-0dd1-4b76-b136-f0bcb9c6da87",
   "metadata": {},
   "outputs": [],
   "source": [
    "test_string = \"The lazy fox jumps over the quick dog.\""
   ]
  },
  {
   "cell_type": "code",
   "execution_count": 29,
   "id": "9624faa5-d9f8-477c-9f01-6c64f8abf2a2",
   "metadata": {},
   "outputs": [
    {
     "data": {
      "text/plain": [
       "'Th'"
      ]
     },
     "execution_count": 29,
     "metadata": {},
     "output_type": "execute_result"
    }
   ],
   "source": [
    "test_string[0:2]"
   ]
  },
  {
   "cell_type": "code",
   "execution_count": 27,
   "id": "45d2a568-1069-4861-834c-83d3643a5f4f",
   "metadata": {},
   "outputs": [
    {
     "data": {
      "text/plain": [
       "'[116th Congress Public Law 260]\\n[From the U.S. Government Publishing Office]\\n\\n\\n\\n[[Page 1181]]\\n\\n                  CONSOLIDATED APPROPRIATIONS ACT, 2021\\n\\n                                     \\n\\n                                     \\n\\n                                     \\n\\n                                     \\n\\n\\n\\n__________\\n\\n    * Editorial note: Part 1 contains pages 134 Stat. 1182 through 134 \\nStat. 2247. See note at the end.\\n\\n\\n[[Page 134 STAT. 1182]]\\n\\nPublic Law 116-260\\n116th Congress\\n\\n           '"
      ]
     },
     "execution_count": 27,
     "metadata": {},
     "output_type": "execute_result"
    }
   ],
   "source": [
    "# Show first 500 characters of the string bill_text\n",
    "bill_text[0:500]"
   ]
  },
  {
   "cell_type": "code",
   "execution_count": 32,
   "id": "c1331494-36a9-4da6-ac33-4c1a0ffd63b0",
   "metadata": {},
   "outputs": [
    {
     "data": {
      "text/plain": [
       "'                                                        Vol. 166 (2020):\\n                                    Jan. 15, considered and passed \\n                                        Senate, amended.\\n                                    Dec. 21, House concurred in Senate \\n                                        amendment with an amendment. \\n                                        Senate concurred in House \\n                                        amendment.\\n\\n                                  <all>\\n\\n'"
      ]
     },
     "execution_count": 32,
     "metadata": {},
     "output_type": "execute_result"
    }
   ],
   "source": [
    "# Show last 500 characters of the string bill_text\n",
    "bill_text[-500:]"
   ]
  },
  {
   "cell_type": "markdown",
   "id": "4fb65c1c-4a11-494c-a99b-abbac4bee35f",
   "metadata": {
    "tags": []
   },
   "source": [
    "### Clean up `bill_text`\n",
    "\n",
    "The text is pretty messy. We want to:\n",
    "- replace punctuation with spaces\n",
    "- replace newlines with spaces (`\\n` means \"newline\")\n",
    "- replace 2+ spaces with 1 space"
   ]
  },
  {
   "cell_type": "markdown",
   "id": "afb95245-f08d-4e20-8aac-224847e0f643",
   "metadata": {},
   "source": [
    "#### Replace punctuation with space"
   ]
  },
  {
   "cell_type": "code",
<<<<<<< HEAD
   "execution_count": 24,
=======
   "execution_count": 33,
>>>>>>> 05a17733c6e50ee1a5e7d78e4fe55f581a9d783f
   "id": "2d443173-2dd7-4fd9-80d4-02baf0e010dc",
   "metadata": {},
   "outputs": [],
   "source": [
    "# got the code from here: https://stackoverflow.com/a/37221663\n",
    "punctuation_table = str.maketrans({key: ' ' for key in string.punctuation})\n",
    "bill_text_cleaned = bill_text.translate(punctuation_table)  "
   ]
  },
  {
   "cell_type": "markdown",
   "id": "c6d7d3fe-6d75-4a5b-8c23-aa8cc637c086",
   "metadata": {},
   "source": [
    "Read more about these string methods in the Python documentation:\n",
    "\n",
    "- [str.maketrans()](https://docs.python.org/3.3/library/stdtypes.html#str.maketrans)\n",
    "- [str.translate()](https://docs.python.org/3.3/library/stdtypes.html#str.translate)"
   ]
  },
  {
   "cell_type": "markdown",
   "id": "a8527142-9858-44a6-9bea-2b5ed73abf7f",
   "metadata": {},
   "source": [
    "_The following code is commented out because it outputs a LOT of text. Look at the screen during lecture to see what the output looks like._"
   ]
  },
  {
   "cell_type": "code",
<<<<<<< HEAD
   "execution_count": 26,
=======
   "execution_count": 41,
>>>>>>> 05a17733c6e50ee1a5e7d78e4fe55f581a9d783f
   "id": "a15c029a-2a14-44fd-be8e-62a67333217f",
   "metadata": {},
   "outputs": [
    {
<<<<<<< HEAD
     "data": {
      "text/plain": [
       "' 116th Congress Public Law 260 \\n From the U S  Government Publishing Office \\n\\n\\n\\n  Page 1181  \\n\\n                  CONSOLIDATED APPROPRIATIONS ACT  2021\\n\\n                                     \\n\\n                                     \\n\\n                                     \\n\\n                                     \\n\\n\\n\\n          \\n\\n      Editorial note  Part 1 contains pages 134 Stat  1182 through 134 \\nStat  2247  See note at the end \\n\\n\\n  Page 134 STAT  1182  \\n\\nPublic Law 116 260\\n116th Congress\\n\\n           '"
      ]
     },
     "execution_count": 26,
     "metadata": {},
     "output_type": "execute_result"
    }
   ],
   "source": [
    "# test the result\n",
    "bill_text_cleaned[0:500]"
=======
     "name": "stdout",
     "output_type": "stream",
     "text": [
      " 116th Congress Public Law 260 \n",
      " From the U S  Government Publishing Office \n",
      "\n",
      "\n",
      "\n",
      "  Page 1181  \n",
      "\n",
      "                  CONSOLIDATED APPROPRIATIONS ACT  2021\n",
      "\n",
      "                                     \n",
      "\n",
      "                                     \n",
      "\n",
      "                                     \n",
      "\n",
      "                                     \n",
      "\n",
      "\n",
      "\n",
      "          \n",
      "\n",
      "      Editorial note  Part 1 contains pages 134 Stat  1182 through 134 \n",
      "Stat  2247  See note at the end \n",
      "\n",
      "\n",
      "  Page 134 STAT  1182  \n",
      "\n",
      "Public Law 116 260\n",
      "116th Congress\n",
      "\n",
      "           \n"
     ]
    }
   ],
   "source": [
    "print(bill_text_cleaned[0:500])"
   ]
  },
  {
   "cell_type": "code",
   "execution_count": 39,
   "id": "f11bc23b-9872-4d26-a0e1-b418c22a10c2",
   "metadata": {},
   "outputs": [
    {
     "name": "stdout",
     "output_type": "stream",
     "text": [
      "Text \n",
      " asdf\n"
     ]
    }
   ],
   "source": [
    "asdf = \"Text \\n asdf\"\n",
    "print(asdf)"
   ]
  },
  {
   "cell_type": "code",
   "execution_count": 40,
   "id": "4ebe5fe1-4a2a-454a-a59e-d755cb0d408b",
   "metadata": {},
   "outputs": [
    {
     "name": "stdout",
     "output_type": "stream",
     "text": [
      "Text \\n asdf\n"
     ]
    }
   ],
   "source": [
    "asdf2 = \"Text \\\\n asdf\"\n",
    "print(asdf2)"
>>>>>>> 05a17733c6e50ee1a5e7d78e4fe55f581a9d783f
   ]
  },
  {
   "cell_type": "markdown",
   "id": "257ffed2-cac8-4864-b918-5eeea24489e4",
   "metadata": {},
   "source": [
    "#### Replace newlines with space"
   ]
  },
  {
   "cell_type": "code",
<<<<<<< HEAD
   "execution_count": 27,
=======
   "execution_count": 42,
>>>>>>> 05a17733c6e50ee1a5e7d78e4fe55f581a9d783f
   "id": "b97ea933-42f6-4a78-8362-ca599176f606",
   "metadata": {},
   "outputs": [],
   "source": [
    "bill_text_cleaned = re.sub('\\\\n', ' ', bill_text_cleaned)"
   ]
  },
  {
   "cell_type": "code",
<<<<<<< HEAD
   "execution_count": 28,
=======
   "execution_count": 43,
>>>>>>> 05a17733c6e50ee1a5e7d78e4fe55f581a9d783f
   "id": "47c64ce2-9e70-45bd-947f-f81dcfd3d11e",
   "metadata": {},
   "outputs": [
    {
     "data": {
      "text/plain": [
       "' 116th Congress Public Law 260   From the U S  Government Publishing Office       Page 1181                      CONSOLIDATED APPROPRIATIONS ACT  2021                                                                                                                                                                                  Editorial note  Part 1 contains pages 134 Stat  1182 through 134  Stat  2247  See note at the end      Page 134 STAT  1182    Public Law 116 260 116th Congress             '"
      ]
     },
<<<<<<< HEAD
     "execution_count": 28,
=======
     "execution_count": 43,
>>>>>>> 05a17733c6e50ee1a5e7d78e4fe55f581a9d783f
     "metadata": {},
     "output_type": "execute_result"
    }
   ],
   "source": [
<<<<<<< HEAD
    "# test the result\n",
=======
>>>>>>> 05a17733c6e50ee1a5e7d78e4fe55f581a9d783f
    "bill_text_cleaned[0:500]"
   ]
  },
  {
   "cell_type": "markdown",
   "id": "a1cdf51f-accf-4e79-97cc-36f1f2dd5fe8",
   "metadata": {},
   "source": [
    "#### Replace multiple spaces with one space"
   ]
  },
  {
   "cell_type": "code",
<<<<<<< HEAD
   "execution_count": 29,
=======
   "execution_count": 44,
>>>>>>> 05a17733c6e50ee1a5e7d78e4fe55f581a9d783f
   "id": "58a485f7-efe0-48fd-8a7b-cf796e917910",
   "metadata": {},
   "outputs": [],
   "source": [
    "bill_text_cleaned = re.sub('\\s{2,}', ' ', bill_text_cleaned)"
   ]
  },
  {
   "cell_type": "code",
<<<<<<< HEAD
   "execution_count": 30,
=======
   "execution_count": 45,
>>>>>>> 05a17733c6e50ee1a5e7d78e4fe55f581a9d783f
   "id": "6fff1859-8244-439f-8d85-f406f30ab140",
   "metadata": {},
   "outputs": [
    {
     "data": {
      "text/plain": [
       "' 116th Congress Public Law 260 From the U S Government Publishing Office Page 1181 CONSOLIDATED APPROPRIATIONS ACT 2021 Editorial note Part 1 contains pages 134 Stat 1182 through 134 Stat 2247 See note at the end Page 134 STAT 1182 Public Law 116 260 116th Congress An Act Making consolidated appropriations for the fiscal year ending September 30 2021 providing coronavirus emergency response and relief and for other purposes NOTE Dec 27 2020 H R 133 Be it enacted by the Senate and House of Repres'"
      ]
     },
<<<<<<< HEAD
     "execution_count": 30,
=======
     "execution_count": 45,
>>>>>>> 05a17733c6e50ee1a5e7d78e4fe55f581a9d783f
     "metadata": {},
     "output_type": "execute_result"
    }
   ],
   "source": [
<<<<<<< HEAD
    "# test the result\n",
=======
>>>>>>> 05a17733c6e50ee1a5e7d78e4fe55f581a9d783f
    "bill_text_cleaned[0:500]"
   ]
  },
  {
   "cell_type": "markdown",
   "id": "2e2a59ba-e921-4518-bd56-b11ab6e4a48f",
   "metadata": {},
   "source": [
    "What are some problems you see in the final `bill_text_cleaned`? Do you think it's OK for the purposes of this project?"
   ]
  },
  {
   "cell_type": "markdown",
   "id": "1e26e885-399b-4e05-a60d-8bacd6d1f610",
   "metadata": {},
   "source": [
    "### Word count\n",
    "\n",
    "#### Get the word count\n",
    "\n",
    "You can get the word count of a string by splitting the string. By default `str.split()` will by split on spaces. Then, you are left with a list of words. The length of the list, or `len()` is how many words you have in the string."
   ]
  },
  {
   "cell_type": "code",
<<<<<<< HEAD
   "execution_count": 32,
   "id": "5d629850-9727-4971-af9b-76803b2ba42c",
   "metadata": {},
   "outputs": [],
   "source": [
    "test_string = \"This class ends at 8 pm\""
=======
   "execution_count": 46,
   "id": "d671252c-2935-4a3f-abf9-09b6df8323f2",
   "metadata": {},
   "outputs": [],
   "source": [
    "test_string = 'This class ends at 9 pm.'"
>>>>>>> 05a17733c6e50ee1a5e7d78e4fe55f581a9d783f
   ]
  },
  {
   "cell_type": "code",
<<<<<<< HEAD
   "execution_count": 34,
   "id": "7c86c908-1372-4f85-b0a9-e1f001a04f78",
=======
   "execution_count": 53,
   "id": "9a5e19fc-8ef5-469e-af03-d32d363b60f5",
>>>>>>> 05a17733c6e50ee1a5e7d78e4fe55f581a9d783f
   "metadata": {},
   "outputs": [
    {
     "data": {
      "text/plain": [
<<<<<<< HEAD
       "['This', 'class', 'ends', 'at', '8', 'pm']"
      ]
     },
     "execution_count": 34,
=======
       "str"
      ]
     },
     "execution_count": 53,
>>>>>>> 05a17733c6e50ee1a5e7d78e4fe55f581a9d783f
     "metadata": {},
     "output_type": "execute_result"
    }
   ],
   "source": [
<<<<<<< HEAD
    "test_string.split()"
=======
    "type(test_string)"
>>>>>>> 05a17733c6e50ee1a5e7d78e4fe55f581a9d783f
   ]
  },
  {
   "cell_type": "code",
<<<<<<< HEAD
   "execution_count": 31,
=======
   "execution_count": 55,
   "id": "95cd8c69-a266-4680-8a07-3a14c9ac7634",
   "metadata": {},
   "outputs": [
    {
     "data": {
      "text/plain": [
       "['This', 'class', 'ends', 'at', '9', 'pm.']"
      ]
     },
     "execution_count": 55,
     "metadata": {},
     "output_type": "execute_result"
    }
   ],
   "source": [
    "test_list = test_string.split()\n",
    "test_list"
   ]
  },
  {
   "cell_type": "code",
   "execution_count": 56,
   "id": "1ecc4f1e-26ff-4429-8018-9cb670f4eb91",
   "metadata": {},
   "outputs": [
    {
     "data": {
      "text/plain": [
       "list"
      ]
     },
     "execution_count": 56,
     "metadata": {},
     "output_type": "execute_result"
    }
   ],
   "source": [
    "type(test_list)"
   ]
  },
  {
   "cell_type": "code",
   "execution_count": 58,
   "id": "a965587c-23d9-451d-9417-1e060fd7bcc5",
   "metadata": {},
   "outputs": [
    {
     "data": {
      "text/plain": [
       "6"
      ]
     },
     "execution_count": 58,
     "metadata": {},
     "output_type": "execute_result"
    }
   ],
   "source": [
    "len(test_list)"
   ]
  },
  {
   "cell_type": "code",
   "execution_count": 51,
>>>>>>> 05a17733c6e50ee1a5e7d78e4fe55f581a9d783f
   "id": "affe8762-7ec7-47f9-b83a-3be120cca9de",
   "metadata": {},
   "outputs": [],
   "source": [
    "bill_word_count = len(bill_text_cleaned.split())"
   ]
  },
  {
   "cell_type": "code",
<<<<<<< HEAD
   "execution_count": 35,
=======
   "execution_count": 52,
>>>>>>> 05a17733c6e50ee1a5e7d78e4fe55f581a9d783f
   "id": "e60be4d6-d24d-497d-9be1-a03ee5e44622",
   "metadata": {},
   "outputs": [
    {
     "data": {
      "text/plain": [
       "967689"
      ]
     },
<<<<<<< HEAD
     "execution_count": 35,
=======
     "execution_count": 52,
>>>>>>> 05a17733c6e50ee1a5e7d78e4fe55f581a9d783f
     "metadata": {},
     "output_type": "execute_result"
    }
   ],
   "source": [
    "bill_word_count"
   ]
  },
  {
   "cell_type": "markdown",
   "id": "a1e53115-e901-4245-bc2a-387ce5337f07",
   "metadata": {},
   "source": [
    "\n",
    "#### Create the dataframe\n",
    "\n",
    "Let's make a pandas dataframe where we can save the word count.\n",
    "\n",
    "The neat thing about `bills` is that it's already structured in a way that makes it very easy to create a dataframe. It's a list of dictionaries that only have one level. (If this doesn't sound familiar to you, you might want to brush up on [lists and dictionaries in the Python documentation](https://docs.python.org/3/tutorial/datastructures.html).)"
   ]
  },
  {
   "cell_type": "code",
<<<<<<< HEAD
   "execution_count": 36,
   "id": "497cc5ac-771d-45f2-bbfb-52713f7ac831",
=======
   "execution_count": 60,
   "id": "8a070849-9a1f-4811-beba-aa6e8fb86fbd",
>>>>>>> 05a17733c6e50ee1a5e7d78e4fe55f581a9d783f
   "metadata": {},
   "outputs": [
    {
     "data": {
      "text/html": [
       "<div>\n",
       "<style scoped>\n",
       "    .dataframe tbody tr th:only-of-type {\n",
       "        vertical-align: middle;\n",
       "    }\n",
       "\n",
       "    .dataframe tbody tr th {\n",
       "        vertical-align: top;\n",
       "    }\n",
       "\n",
       "    .dataframe thead th {\n",
       "        text-align: right;\n",
       "    }\n",
       "</style>\n",
       "<table border=\"1\" class=\"dataframe\">\n",
       "  <thead>\n",
       "    <tr style=\"text-align: right;\">\n",
       "      <th></th>\n",
       "      <th>congress</th>\n",
       "      <th>chamber</th>\n",
       "      <th>bill_url</th>\n",
       "      <th>bill_number</th>\n",
       "    </tr>\n",
       "  </thead>\n",
       "  <tbody>\n",
       "    <tr>\n",
       "      <th>0</th>\n",
       "      <td>116</td>\n",
       "      <td>house</td>\n",
       "      <td>https://www.congress.gov/bill/116th-congress/h...</td>\n",
       "      <td>133</td>\n",
       "    </tr>\n",
       "    <tr>\n",
       "      <th>1</th>\n",
       "      <td>116</td>\n",
       "      <td>house</td>\n",
       "      <td>https://www.congress.gov/bill/116th-congress/h...</td>\n",
       "      <td>150</td>\n",
       "    </tr>\n",
       "    <tr>\n",
       "      <th>2</th>\n",
       "      <td>116</td>\n",
       "      <td>house</td>\n",
       "      <td>https://www.congress.gov/bill/116th-congress/h...</td>\n",
       "      <td>251</td>\n",
       "    </tr>\n",
       "    <tr>\n",
       "      <th>3</th>\n",
       "      <td>116</td>\n",
       "      <td>house</td>\n",
       "      <td>https://www.congress.gov/bill/116th-congress/h...</td>\n",
       "      <td>259</td>\n",
       "    </tr>\n",
       "    <tr>\n",
       "      <th>4</th>\n",
       "      <td>116</td>\n",
       "      <td>house</td>\n",
       "      <td>https://www.congress.gov/bill/116th-congress/h...</td>\n",
       "      <td>263</td>\n",
       "    </tr>\n",
       "    <tr>\n",
       "      <th>5</th>\n",
       "      <td>116</td>\n",
       "      <td>house</td>\n",
       "      <td>https://www.congress.gov/bill/116th-congress/h...</td>\n",
       "      <td>266</td>\n",
       "    </tr>\n",
       "    <tr>\n",
       "      <th>6</th>\n",
       "      <td>116</td>\n",
       "      <td>house</td>\n",
       "      <td>https://www.congress.gov/bill/116th-congress/h...</td>\n",
       "      <td>276</td>\n",
       "    </tr>\n",
       "    <tr>\n",
       "      <th>7</th>\n",
       "      <td>116</td>\n",
       "      <td>house</td>\n",
       "      <td>https://www.congress.gov/bill/116th-congress/h...</td>\n",
       "      <td>299</td>\n",
       "    </tr>\n",
       "    <tr>\n",
       "      <th>8</th>\n",
       "      <td>116</td>\n",
       "      <td>house</td>\n",
       "      <td>https://www.congress.gov/bill/116th-congress/h...</td>\n",
       "      <td>430</td>\n",
       "    </tr>\n",
       "    <tr>\n",
       "      <th>9</th>\n",
       "      <td>116</td>\n",
       "      <td>house</td>\n",
       "      <td>https://www.congress.gov/bill/116th-congress/h...</td>\n",
       "      <td>434</td>\n",
       "    </tr>\n",
       "    <tr>\n",
       "      <th>10</th>\n",
       "      <td>116</td>\n",
       "      <td>house</td>\n",
       "      <td>https://www.congress.gov/bill/116th-congress/h...</td>\n",
       "      <td>439</td>\n",
       "    </tr>\n",
       "    <tr>\n",
       "      <th>11</th>\n",
       "      <td>116</td>\n",
       "      <td>house</td>\n",
       "      <td>https://www.congress.gov/bill/116th-congress/h...</td>\n",
       "      <td>473</td>\n",
       "    </tr>\n",
       "    <tr>\n",
       "      <th>12</th>\n",
       "      <td>116</td>\n",
       "      <td>house</td>\n",
       "      <td>https://www.congress.gov/bill/116th-congress/h...</td>\n",
       "      <td>504</td>\n",
       "    </tr>\n",
       "    <tr>\n",
       "      <th>13</th>\n",
       "      <td>116</td>\n",
       "      <td>house</td>\n",
       "      <td>https://www.congress.gov/bill/116th-congress/h...</td>\n",
       "      <td>540</td>\n",
       "    </tr>\n",
       "    <tr>\n",
       "      <th>14</th>\n",
       "      <td>116</td>\n",
       "      <td>house</td>\n",
       "      <td>https://www.congress.gov/bill/116th-congress/h...</td>\n",
       "      <td>559</td>\n",
       "    </tr>\n",
       "    <tr>\n",
       "      <th>15</th>\n",
       "      <td>116</td>\n",
       "      <td>house</td>\n",
       "      <td>https://www.congress.gov/bill/116th-congress/h...</td>\n",
       "      <td>561</td>\n",
       "    </tr>\n",
       "    <tr>\n",
       "      <th>16</th>\n",
       "      <td>116</td>\n",
       "      <td>house</td>\n",
       "      <td>https://www.congress.gov/bill/116th-congress/h...</td>\n",
       "      <td>583</td>\n",
       "    </tr>\n",
       "    <tr>\n",
       "      <th>17</th>\n",
       "      <td>116</td>\n",
       "      <td>house</td>\n",
       "      <td>https://www.congress.gov/bill/116th-congress/h...</td>\n",
       "      <td>639</td>\n",
       "    </tr>\n",
       "    <tr>\n",
       "      <th>18</th>\n",
       "      <td>116</td>\n",
       "      <td>house</td>\n",
       "      <td>https://www.congress.gov/bill/116th-congress/h...</td>\n",
       "      <td>724</td>\n",
       "    </tr>\n",
       "    <tr>\n",
       "      <th>19</th>\n",
       "      <td>116</td>\n",
       "      <td>house</td>\n",
       "      <td>https://www.congress.gov/bill/116th-congress/h...</td>\n",
       "      <td>748</td>\n",
       "    </tr>\n",
       "    <tr>\n",
       "      <th>20</th>\n",
       "      <td>116</td>\n",
       "      <td>house</td>\n",
       "      <td>https://www.congress.gov/bill/116th-congress/h...</td>\n",
       "      <td>776</td>\n",
       "    </tr>\n",
       "    <tr>\n",
       "      <th>21</th>\n",
       "      <td>116</td>\n",
       "      <td>house</td>\n",
       "      <td>https://www.congress.gov/bill/116th-congress/h...</td>\n",
       "      <td>777</td>\n",
       "    </tr>\n",
       "    <tr>\n",
       "      <th>22</th>\n",
       "      <td>116</td>\n",
       "      <td>house</td>\n",
       "      <td>https://www.congress.gov/bill/116th-congress/h...</td>\n",
       "      <td>828</td>\n",
       "    </tr>\n",
       "    <tr>\n",
       "      <th>23</th>\n",
       "      <td>116</td>\n",
       "      <td>house</td>\n",
       "      <td>https://www.congress.gov/bill/116th-congress/h...</td>\n",
       "      <td>829</td>\n",
       "    </tr>\n",
       "    <tr>\n",
       "      <th>24</th>\n",
       "      <td>116</td>\n",
       "      <td>house</td>\n",
       "      <td>https://www.congress.gov/bill/116th-congress/h...</td>\n",
       "      <td>831</td>\n",
       "    </tr>\n",
       "    <tr>\n",
       "      <th>25</th>\n",
       "      <td>116</td>\n",
       "      <td>house</td>\n",
       "      <td>https://www.congress.gov/bill/116th-congress/h...</td>\n",
       "      <td>835</td>\n",
       "    </tr>\n",
       "    <tr>\n",
       "      <th>26</th>\n",
       "      <td>116</td>\n",
       "      <td>house</td>\n",
       "      <td>https://www.congress.gov/bill/116th-congress/h...</td>\n",
       "      <td>866</td>\n",
       "    </tr>\n",
       "    <tr>\n",
       "      <th>27</th>\n",
       "      <td>116</td>\n",
       "      <td>house</td>\n",
       "      <td>https://www.congress.gov/bill/116th-congress/h...</td>\n",
       "      <td>886</td>\n",
       "    </tr>\n",
       "    <tr>\n",
       "      <th>28</th>\n",
       "      <td>116</td>\n",
       "      <td>house</td>\n",
       "      <td>https://www.congress.gov/bill/116th-congress/h...</td>\n",
       "      <td>887</td>\n",
       "    </tr>\n",
       "    <tr>\n",
       "      <th>29</th>\n",
       "      <td>116</td>\n",
       "      <td>house</td>\n",
       "      <td>https://www.congress.gov/bill/116th-congress/h...</td>\n",
       "      <td>943</td>\n",
       "    </tr>\n",
       "    <tr>\n",
       "      <th>30</th>\n",
       "      <td>116</td>\n",
       "      <td>house</td>\n",
       "      <td>https://www.congress.gov/bill/116th-congress/h...</td>\n",
       "      <td>991</td>\n",
       "    </tr>\n",
       "    <tr>\n",
       "      <th>31</th>\n",
       "      <td>116</td>\n",
       "      <td>house</td>\n",
       "      <td>https://www.congress.gov/bill/116th-congress/h...</td>\n",
       "      <td>1058</td>\n",
       "    </tr>\n",
       "    <tr>\n",
       "      <th>32</th>\n",
       "      <td>116</td>\n",
       "      <td>house</td>\n",
       "      <td>https://www.congress.gov/bill/116th-congress/h...</td>\n",
       "      <td>1079</td>\n",
       "    </tr>\n",
       "    <tr>\n",
       "      <th>33</th>\n",
       "      <td>116</td>\n",
       "      <td>house</td>\n",
       "      <td>https://www.congress.gov/bill/116th-congress/h...</td>\n",
       "      <td>1123</td>\n",
       "    </tr>\n",
       "    <tr>\n",
       "      <th>34</th>\n",
       "      <td>116</td>\n",
       "      <td>house</td>\n",
       "      <td>https://www.congress.gov/bill/116th-congress/h...</td>\n",
       "      <td>1138</td>\n",
       "    </tr>\n",
       "    <tr>\n",
       "      <th>35</th>\n",
       "      <td>116</td>\n",
       "      <td>house</td>\n",
       "      <td>https://www.congress.gov/bill/116th-congress/h...</td>\n",
       "      <td>1158</td>\n",
       "    </tr>\n",
       "    <tr>\n",
       "      <th>36</th>\n",
       "      <td>116</td>\n",
       "      <td>house</td>\n",
       "      <td>https://www.congress.gov/bill/116th-congress/h...</td>\n",
       "      <td>1198</td>\n",
       "    </tr>\n",
       "    <tr>\n",
       "      <th>37</th>\n",
       "      <td>116</td>\n",
       "      <td>house</td>\n",
       "      <td>https://www.congress.gov/bill/116th-congress/h...</td>\n",
       "      <td>1200</td>\n",
       "    </tr>\n",
       "    <tr>\n",
       "      <th>38</th>\n",
       "      <td>116</td>\n",
       "      <td>house</td>\n",
       "      <td>https://www.congress.gov/bill/116th-congress/h...</td>\n",
       "      <td>1222</td>\n",
       "    </tr>\n",
       "    <tr>\n",
       "      <th>39</th>\n",
       "      <td>116</td>\n",
       "      <td>house</td>\n",
       "      <td>https://www.congress.gov/bill/116th-congress/h...</td>\n",
       "      <td>1250</td>\n",
       "    </tr>\n",
       "  </tbody>\n",
       "</table>\n",
       "</div>"
      ],
      "text/plain": [
       "    congress chamber                                           bill_url  \\\n",
       "0        116   house  https://www.congress.gov/bill/116th-congress/h...   \n",
       "1        116   house  https://www.congress.gov/bill/116th-congress/h...   \n",
       "2        116   house  https://www.congress.gov/bill/116th-congress/h...   \n",
       "3        116   house  https://www.congress.gov/bill/116th-congress/h...   \n",
       "4        116   house  https://www.congress.gov/bill/116th-congress/h...   \n",
       "5        116   house  https://www.congress.gov/bill/116th-congress/h...   \n",
       "6        116   house  https://www.congress.gov/bill/116th-congress/h...   \n",
       "7        116   house  https://www.congress.gov/bill/116th-congress/h...   \n",
       "8        116   house  https://www.congress.gov/bill/116th-congress/h...   \n",
       "9        116   house  https://www.congress.gov/bill/116th-congress/h...   \n",
       "10       116   house  https://www.congress.gov/bill/116th-congress/h...   \n",
       "11       116   house  https://www.congress.gov/bill/116th-congress/h...   \n",
       "12       116   house  https://www.congress.gov/bill/116th-congress/h...   \n",
       "13       116   house  https://www.congress.gov/bill/116th-congress/h...   \n",
       "14       116   house  https://www.congress.gov/bill/116th-congress/h...   \n",
       "15       116   house  https://www.congress.gov/bill/116th-congress/h...   \n",
       "16       116   house  https://www.congress.gov/bill/116th-congress/h...   \n",
       "17       116   house  https://www.congress.gov/bill/116th-congress/h...   \n",
       "18       116   house  https://www.congress.gov/bill/116th-congress/h...   \n",
       "19       116   house  https://www.congress.gov/bill/116th-congress/h...   \n",
       "20       116   house  https://www.congress.gov/bill/116th-congress/h...   \n",
       "21       116   house  https://www.congress.gov/bill/116th-congress/h...   \n",
       "22       116   house  https://www.congress.gov/bill/116th-congress/h...   \n",
       "23       116   house  https://www.congress.gov/bill/116th-congress/h...   \n",
       "24       116   house  https://www.congress.gov/bill/116th-congress/h...   \n",
       "25       116   house  https://www.congress.gov/bill/116th-congress/h...   \n",
       "26       116   house  https://www.congress.gov/bill/116th-congress/h...   \n",
       "27       116   house  https://www.congress.gov/bill/116th-congress/h...   \n",
       "28       116   house  https://www.congress.gov/bill/116th-congress/h...   \n",
       "29       116   house  https://www.congress.gov/bill/116th-congress/h...   \n",
       "30       116   house  https://www.congress.gov/bill/116th-congress/h...   \n",
       "31       116   house  https://www.congress.gov/bill/116th-congress/h...   \n",
       "32       116   house  https://www.congress.gov/bill/116th-congress/h...   \n",
       "33       116   house  https://www.congress.gov/bill/116th-congress/h...   \n",
       "34       116   house  https://www.congress.gov/bill/116th-congress/h...   \n",
       "35       116   house  https://www.congress.gov/bill/116th-congress/h...   \n",
       "36       116   house  https://www.congress.gov/bill/116th-congress/h...   \n",
       "37       116   house  https://www.congress.gov/bill/116th-congress/h...   \n",
       "38       116   house  https://www.congress.gov/bill/116th-congress/h...   \n",
       "39       116   house  https://www.congress.gov/bill/116th-congress/h...   \n",
       "\n",
       "    bill_number  \n",
       "0           133  \n",
       "1           150  \n",
       "2           251  \n",
       "3           259  \n",
       "4           263  \n",
       "5           266  \n",
       "6           276  \n",
       "7           299  \n",
       "8           430  \n",
       "9           434  \n",
       "10          439  \n",
       "11          473  \n",
       "12          504  \n",
       "13          540  \n",
       "14          559  \n",
       "15          561  \n",
       "16          583  \n",
       "17          639  \n",
       "18          724  \n",
       "19          748  \n",
       "20          776  \n",
       "21          777  \n",
       "22          828  \n",
       "23          829  \n",
       "24          831  \n",
       "25          835  \n",
       "26          866  \n",
       "27          886  \n",
       "28          887  \n",
       "29          943  \n",
       "30          991  \n",
       "31         1058  \n",
       "32         1079  \n",
       "33         1123  \n",
       "34         1138  \n",
       "35         1158  \n",
       "36         1198  \n",
       "37         1200  \n",
       "38         1222  \n",
       "39         1250  "
      ]
     },
     "execution_count": 36,
     "metadata": {},
     "output_type": "execute_result"
    }
   ],
   "source": [
    "# bills"
   ]
  },
  {
   "cell_type": "code",
   "execution_count": 61,
   "id": "497cc5ac-771d-45f2-bbfb-52713f7ac831",
   "metadata": {},
   "outputs": [
    {
     "data": {
      "text/html": [
       "<div>\n",
       "<style scoped>\n",
       "    .dataframe tbody tr th:only-of-type {\n",
       "        vertical-align: middle;\n",
       "    }\n",
       "\n",
       "    .dataframe tbody tr th {\n",
       "        vertical-align: top;\n",
       "    }\n",
       "\n",
       "    .dataframe thead th {\n",
       "        text-align: right;\n",
       "    }\n",
       "</style>\n",
       "<table border=\"1\" class=\"dataframe\">\n",
       "  <thead>\n",
       "    <tr style=\"text-align: right;\">\n",
       "      <th></th>\n",
       "      <th>congress</th>\n",
       "      <th>chamber</th>\n",
       "      <th>bill_url</th>\n",
       "      <th>bill_number</th>\n",
       "    </tr>\n",
       "  </thead>\n",
       "  <tbody>\n",
       "    <tr>\n",
       "      <th>0</th>\n",
       "      <td>116</td>\n",
       "      <td>house</td>\n",
       "      <td>https://www.congress.gov/bill/116th-congress/h...</td>\n",
       "      <td>133</td>\n",
       "    </tr>\n",
       "    <tr>\n",
       "      <th>1</th>\n",
       "      <td>116</td>\n",
       "      <td>house</td>\n",
       "      <td>https://www.congress.gov/bill/116th-congress/h...</td>\n",
       "      <td>150</td>\n",
       "    </tr>\n",
       "    <tr>\n",
       "      <th>2</th>\n",
       "      <td>116</td>\n",
       "      <td>house</td>\n",
       "      <td>https://www.congress.gov/bill/116th-congress/h...</td>\n",
       "      <td>251</td>\n",
       "    </tr>\n",
       "    <tr>\n",
       "      <th>3</th>\n",
       "      <td>116</td>\n",
       "      <td>house</td>\n",
       "      <td>https://www.congress.gov/bill/116th-congress/h...</td>\n",
       "      <td>259</td>\n",
       "    </tr>\n",
       "    <tr>\n",
       "      <th>4</th>\n",
       "      <td>116</td>\n",
       "      <td>house</td>\n",
       "      <td>https://www.congress.gov/bill/116th-congress/h...</td>\n",
       "      <td>263</td>\n",
       "    </tr>\n",
       "    <tr>\n",
       "      <th>5</th>\n",
       "      <td>116</td>\n",
       "      <td>house</td>\n",
       "      <td>https://www.congress.gov/bill/116th-congress/h...</td>\n",
       "      <td>266</td>\n",
       "    </tr>\n",
       "    <tr>\n",
       "      <th>6</th>\n",
       "      <td>116</td>\n",
       "      <td>house</td>\n",
       "      <td>https://www.congress.gov/bill/116th-congress/h...</td>\n",
       "      <td>276</td>\n",
       "    </tr>\n",
       "    <tr>\n",
       "      <th>7</th>\n",
       "      <td>116</td>\n",
       "      <td>house</td>\n",
       "      <td>https://www.congress.gov/bill/116th-congress/h...</td>\n",
       "      <td>299</td>\n",
       "    </tr>\n",
       "    <tr>\n",
       "      <th>8</th>\n",
       "      <td>116</td>\n",
       "      <td>house</td>\n",
       "      <td>https://www.congress.gov/bill/116th-congress/h...</td>\n",
       "      <td>430</td>\n",
       "    </tr>\n",
       "    <tr>\n",
       "      <th>9</th>\n",
       "      <td>116</td>\n",
       "      <td>house</td>\n",
       "      <td>https://www.congress.gov/bill/116th-congress/h...</td>\n",
       "      <td>434</td>\n",
       "    </tr>\n",
       "    <tr>\n",
       "      <th>10</th>\n",
       "      <td>116</td>\n",
       "      <td>house</td>\n",
       "      <td>https://www.congress.gov/bill/116th-congress/h...</td>\n",
       "      <td>439</td>\n",
       "    </tr>\n",
       "    <tr>\n",
       "      <th>11</th>\n",
       "      <td>116</td>\n",
       "      <td>house</td>\n",
       "      <td>https://www.congress.gov/bill/116th-congress/h...</td>\n",
       "      <td>473</td>\n",
       "    </tr>\n",
       "    <tr>\n",
       "      <th>12</th>\n",
       "      <td>116</td>\n",
       "      <td>house</td>\n",
       "      <td>https://www.congress.gov/bill/116th-congress/h...</td>\n",
       "      <td>504</td>\n",
       "    </tr>\n",
       "    <tr>\n",
       "      <th>13</th>\n",
       "      <td>116</td>\n",
       "      <td>house</td>\n",
       "      <td>https://www.congress.gov/bill/116th-congress/h...</td>\n",
       "      <td>540</td>\n",
       "    </tr>\n",
       "    <tr>\n",
       "      <th>14</th>\n",
       "      <td>116</td>\n",
       "      <td>house</td>\n",
       "      <td>https://www.congress.gov/bill/116th-congress/h...</td>\n",
       "      <td>559</td>\n",
       "    </tr>\n",
       "    <tr>\n",
       "      <th>15</th>\n",
       "      <td>116</td>\n",
       "      <td>house</td>\n",
       "      <td>https://www.congress.gov/bill/116th-congress/h...</td>\n",
       "      <td>561</td>\n",
       "    </tr>\n",
       "    <tr>\n",
       "      <th>16</th>\n",
       "      <td>116</td>\n",
       "      <td>house</td>\n",
       "      <td>https://www.congress.gov/bill/116th-congress/h...</td>\n",
       "      <td>583</td>\n",
       "    </tr>\n",
       "    <tr>\n",
       "      <th>17</th>\n",
       "      <td>116</td>\n",
       "      <td>house</td>\n",
       "      <td>https://www.congress.gov/bill/116th-congress/h...</td>\n",
       "      <td>639</td>\n",
       "    </tr>\n",
       "    <tr>\n",
       "      <th>18</th>\n",
       "      <td>116</td>\n",
       "      <td>house</td>\n",
       "      <td>https://www.congress.gov/bill/116th-congress/h...</td>\n",
       "      <td>724</td>\n",
       "    </tr>\n",
       "    <tr>\n",
       "      <th>19</th>\n",
       "      <td>116</td>\n",
       "      <td>house</td>\n",
       "      <td>https://www.congress.gov/bill/116th-congress/h...</td>\n",
       "      <td>748</td>\n",
       "    </tr>\n",
       "    <tr>\n",
       "      <th>20</th>\n",
       "      <td>116</td>\n",
       "      <td>house</td>\n",
       "      <td>https://www.congress.gov/bill/116th-congress/h...</td>\n",
       "      <td>776</td>\n",
       "    </tr>\n",
       "    <tr>\n",
       "      <th>21</th>\n",
       "      <td>116</td>\n",
       "      <td>house</td>\n",
       "      <td>https://www.congress.gov/bill/116th-congress/h...</td>\n",
       "      <td>777</td>\n",
       "    </tr>\n",
       "    <tr>\n",
       "      <th>22</th>\n",
       "      <td>116</td>\n",
       "      <td>house</td>\n",
       "      <td>https://www.congress.gov/bill/116th-congress/h...</td>\n",
       "      <td>828</td>\n",
       "    </tr>\n",
       "    <tr>\n",
       "      <th>23</th>\n",
       "      <td>116</td>\n",
       "      <td>house</td>\n",
       "      <td>https://www.congress.gov/bill/116th-congress/h...</td>\n",
       "      <td>829</td>\n",
       "    </tr>\n",
       "    <tr>\n",
       "      <th>24</th>\n",
       "      <td>116</td>\n",
       "      <td>house</td>\n",
       "      <td>https://www.congress.gov/bill/116th-congress/h...</td>\n",
       "      <td>831</td>\n",
       "    </tr>\n",
       "    <tr>\n",
       "      <th>25</th>\n",
       "      <td>116</td>\n",
       "      <td>house</td>\n",
       "      <td>https://www.congress.gov/bill/116th-congress/h...</td>\n",
       "      <td>835</td>\n",
       "    </tr>\n",
       "    <tr>\n",
       "      <th>26</th>\n",
       "      <td>116</td>\n",
       "      <td>house</td>\n",
       "      <td>https://www.congress.gov/bill/116th-congress/h...</td>\n",
       "      <td>866</td>\n",
       "    </tr>\n",
       "    <tr>\n",
       "      <th>27</th>\n",
       "      <td>116</td>\n",
       "      <td>house</td>\n",
       "      <td>https://www.congress.gov/bill/116th-congress/h...</td>\n",
       "      <td>886</td>\n",
       "    </tr>\n",
       "    <tr>\n",
       "      <th>28</th>\n",
       "      <td>116</td>\n",
       "      <td>house</td>\n",
       "      <td>https://www.congress.gov/bill/116th-congress/h...</td>\n",
       "      <td>887</td>\n",
       "    </tr>\n",
       "    <tr>\n",
       "      <th>29</th>\n",
       "      <td>116</td>\n",
       "      <td>house</td>\n",
       "      <td>https://www.congress.gov/bill/116th-congress/h...</td>\n",
       "      <td>943</td>\n",
       "    </tr>\n",
       "    <tr>\n",
       "      <th>30</th>\n",
       "      <td>116</td>\n",
       "      <td>house</td>\n",
       "      <td>https://www.congress.gov/bill/116th-congress/h...</td>\n",
       "      <td>991</td>\n",
       "    </tr>\n",
       "    <tr>\n",
       "      <th>31</th>\n",
       "      <td>116</td>\n",
       "      <td>house</td>\n",
       "      <td>https://www.congress.gov/bill/116th-congress/h...</td>\n",
       "      <td>1058</td>\n",
       "    </tr>\n",
       "    <tr>\n",
       "      <th>32</th>\n",
       "      <td>116</td>\n",
       "      <td>house</td>\n",
       "      <td>https://www.congress.gov/bill/116th-congress/h...</td>\n",
       "      <td>1079</td>\n",
       "    </tr>\n",
       "    <tr>\n",
       "      <th>33</th>\n",
       "      <td>116</td>\n",
       "      <td>house</td>\n",
       "      <td>https://www.congress.gov/bill/116th-congress/h...</td>\n",
       "      <td>1123</td>\n",
       "    </tr>\n",
       "    <tr>\n",
       "      <th>34</th>\n",
       "      <td>116</td>\n",
       "      <td>house</td>\n",
       "      <td>https://www.congress.gov/bill/116th-congress/h...</td>\n",
       "      <td>1138</td>\n",
       "    </tr>\n",
       "    <tr>\n",
       "      <th>35</th>\n",
       "      <td>116</td>\n",
       "      <td>house</td>\n",
       "      <td>https://www.congress.gov/bill/116th-congress/h...</td>\n",
       "      <td>1158</td>\n",
       "    </tr>\n",
       "    <tr>\n",
       "      <th>36</th>\n",
       "      <td>116</td>\n",
       "      <td>house</td>\n",
       "      <td>https://www.congress.gov/bill/116th-congress/h...</td>\n",
       "      <td>1198</td>\n",
       "    </tr>\n",
       "    <tr>\n",
       "      <th>37</th>\n",
       "      <td>116</td>\n",
       "      <td>house</td>\n",
       "      <td>https://www.congress.gov/bill/116th-congress/h...</td>\n",
       "      <td>1200</td>\n",
       "    </tr>\n",
       "    <tr>\n",
       "      <th>38</th>\n",
       "      <td>116</td>\n",
       "      <td>house</td>\n",
       "      <td>https://www.congress.gov/bill/116th-congress/h...</td>\n",
       "      <td>1222</td>\n",
       "    </tr>\n",
       "    <tr>\n",
       "      <th>39</th>\n",
       "      <td>116</td>\n",
       "      <td>house</td>\n",
       "      <td>https://www.congress.gov/bill/116th-congress/h...</td>\n",
       "      <td>1250</td>\n",
       "    </tr>\n",
       "  </tbody>\n",
       "</table>\n",
       "</div>"
      ],
      "text/plain": [
       "    congress chamber                                           bill_url  \\\n",
       "0        116   house  https://www.congress.gov/bill/116th-congress/h...   \n",
       "1        116   house  https://www.congress.gov/bill/116th-congress/h...   \n",
       "2        116   house  https://www.congress.gov/bill/116th-congress/h...   \n",
       "3        116   house  https://www.congress.gov/bill/116th-congress/h...   \n",
       "4        116   house  https://www.congress.gov/bill/116th-congress/h...   \n",
       "5        116   house  https://www.congress.gov/bill/116th-congress/h...   \n",
       "6        116   house  https://www.congress.gov/bill/116th-congress/h...   \n",
       "7        116   house  https://www.congress.gov/bill/116th-congress/h...   \n",
       "8        116   house  https://www.congress.gov/bill/116th-congress/h...   \n",
       "9        116   house  https://www.congress.gov/bill/116th-congress/h...   \n",
       "10       116   house  https://www.congress.gov/bill/116th-congress/h...   \n",
       "11       116   house  https://www.congress.gov/bill/116th-congress/h...   \n",
       "12       116   house  https://www.congress.gov/bill/116th-congress/h...   \n",
       "13       116   house  https://www.congress.gov/bill/116th-congress/h...   \n",
       "14       116   house  https://www.congress.gov/bill/116th-congress/h...   \n",
       "15       116   house  https://www.congress.gov/bill/116th-congress/h...   \n",
       "16       116   house  https://www.congress.gov/bill/116th-congress/h...   \n",
       "17       116   house  https://www.congress.gov/bill/116th-congress/h...   \n",
       "18       116   house  https://www.congress.gov/bill/116th-congress/h...   \n",
       "19       116   house  https://www.congress.gov/bill/116th-congress/h...   \n",
       "20       116   house  https://www.congress.gov/bill/116th-congress/h...   \n",
       "21       116   house  https://www.congress.gov/bill/116th-congress/h...   \n",
       "22       116   house  https://www.congress.gov/bill/116th-congress/h...   \n",
       "23       116   house  https://www.congress.gov/bill/116th-congress/h...   \n",
       "24       116   house  https://www.congress.gov/bill/116th-congress/h...   \n",
       "25       116   house  https://www.congress.gov/bill/116th-congress/h...   \n",
       "26       116   house  https://www.congress.gov/bill/116th-congress/h...   \n",
       "27       116   house  https://www.congress.gov/bill/116th-congress/h...   \n",
       "28       116   house  https://www.congress.gov/bill/116th-congress/h...   \n",
       "29       116   house  https://www.congress.gov/bill/116th-congress/h...   \n",
       "30       116   house  https://www.congress.gov/bill/116th-congress/h...   \n",
       "31       116   house  https://www.congress.gov/bill/116th-congress/h...   \n",
       "32       116   house  https://www.congress.gov/bill/116th-congress/h...   \n",
       "33       116   house  https://www.congress.gov/bill/116th-congress/h...   \n",
       "34       116   house  https://www.congress.gov/bill/116th-congress/h...   \n",
       "35       116   house  https://www.congress.gov/bill/116th-congress/h...   \n",
       "36       116   house  https://www.congress.gov/bill/116th-congress/h...   \n",
       "37       116   house  https://www.congress.gov/bill/116th-congress/h...   \n",
       "38       116   house  https://www.congress.gov/bill/116th-congress/h...   \n",
       "39       116   house  https://www.congress.gov/bill/116th-congress/h...   \n",
       "\n",
       "    bill_number  \n",
       "0           133  \n",
       "1           150  \n",
       "2           251  \n",
       "3           259  \n",
       "4           263  \n",
       "5           266  \n",
       "6           276  \n",
       "7           299  \n",
       "8           430  \n",
       "9           434  \n",
       "10          439  \n",
       "11          473  \n",
       "12          504  \n",
       "13          540  \n",
       "14          559  \n",
       "15          561  \n",
       "16          583  \n",
       "17          639  \n",
       "18          724  \n",
       "19          748  \n",
       "20          776  \n",
       "21          777  \n",
       "22          828  \n",
       "23          829  \n",
       "24          831  \n",
       "25          835  \n",
       "26          866  \n",
       "27          886  \n",
       "28          887  \n",
       "29          943  \n",
       "30          991  \n",
       "31         1058  \n",
       "32         1079  \n",
       "33         1123  \n",
       "34         1138  \n",
       "35         1158  \n",
       "36         1198  \n",
       "37         1200  \n",
       "38         1222  \n",
       "39         1250  "
      ]
     },
     "execution_count": 61,
     "metadata": {},
     "output_type": "execute_result"
    }
   ],
   "source": [
    "bills_df = pd.DataFrame(bills)\n",
    "bills_df"
   ]
  },
  {
   "cell_type": "markdown",
   "id": "625b4a76-33ba-4476-a651-5d05f03daba5",
   "metadata": {},
   "source": [
    "##### Create a new column, method 1"
   ]
  },
  {
   "cell_type": "code",
<<<<<<< HEAD
   "execution_count": 37,
=======
   "execution_count": 62,
>>>>>>> 05a17733c6e50ee1a5e7d78e4fe55f581a9d783f
   "id": "578db9b7-62c6-4f40-b34c-a9ecb1509745",
   "metadata": {},
   "outputs": [
    {
     "data": {
      "text/plain": [
       "['congress', 'chamber', 'bill_url', 'bill_number', 'word_count']"
      ]
     },
<<<<<<< HEAD
     "execution_count": 37,
=======
     "execution_count": 62,
>>>>>>> 05a17733c6e50ee1a5e7d78e4fe55f581a9d783f
     "metadata": {},
     "output_type": "execute_result"
    }
   ],
   "source": [
    "new_columns = list(bills_df.columns) + ['word_count']\n",
    "new_columns"
   ]
  },
  {
   "cell_type": "code",
<<<<<<< HEAD
   "execution_count": 38,
=======
   "execution_count": 63,
>>>>>>> 05a17733c6e50ee1a5e7d78e4fe55f581a9d783f
   "id": "b60a7227-fb1d-4799-96b0-7b9f49d596be",
   "metadata": {},
   "outputs": [],
   "source": [
    "bills_df = bills_df.reindex(columns=list(bills_df.columns) + ['word_count'])"
   ]
  },
  {
   "cell_type": "code",
<<<<<<< HEAD
   "execution_count": 39,
=======
   "execution_count": 64,
>>>>>>> 05a17733c6e50ee1a5e7d78e4fe55f581a9d783f
   "id": "1dc7df3c-32dd-44cf-828a-9bb528ca7f2a",
   "metadata": {},
   "outputs": [
    {
     "data": {
      "text/html": [
       "<div>\n",
       "<style scoped>\n",
       "    .dataframe tbody tr th:only-of-type {\n",
       "        vertical-align: middle;\n",
       "    }\n",
       "\n",
       "    .dataframe tbody tr th {\n",
       "        vertical-align: top;\n",
       "    }\n",
       "\n",
       "    .dataframe thead th {\n",
       "        text-align: right;\n",
       "    }\n",
       "</style>\n",
       "<table border=\"1\" class=\"dataframe\">\n",
       "  <thead>\n",
       "    <tr style=\"text-align: right;\">\n",
       "      <th></th>\n",
       "      <th>congress</th>\n",
       "      <th>chamber</th>\n",
       "      <th>bill_url</th>\n",
       "      <th>bill_number</th>\n",
       "      <th>word_count</th>\n",
       "    </tr>\n",
       "  </thead>\n",
       "  <tbody>\n",
       "    <tr>\n",
       "      <th>0</th>\n",
       "      <td>116</td>\n",
       "      <td>house</td>\n",
       "      <td>https://www.congress.gov/bill/116th-congress/h...</td>\n",
       "      <td>133</td>\n",
       "      <td>NaN</td>\n",
       "    </tr>\n",
       "    <tr>\n",
       "      <th>1</th>\n",
       "      <td>116</td>\n",
       "      <td>house</td>\n",
       "      <td>https://www.congress.gov/bill/116th-congress/h...</td>\n",
       "      <td>150</td>\n",
       "      <td>NaN</td>\n",
       "    </tr>\n",
       "    <tr>\n",
       "      <th>2</th>\n",
       "      <td>116</td>\n",
       "      <td>house</td>\n",
       "      <td>https://www.congress.gov/bill/116th-congress/h...</td>\n",
       "      <td>251</td>\n",
       "      <td>NaN</td>\n",
       "    </tr>\n",
       "    <tr>\n",
       "      <th>3</th>\n",
       "      <td>116</td>\n",
       "      <td>house</td>\n",
       "      <td>https://www.congress.gov/bill/116th-congress/h...</td>\n",
       "      <td>259</td>\n",
       "      <td>NaN</td>\n",
       "    </tr>\n",
       "    <tr>\n",
       "      <th>4</th>\n",
       "      <td>116</td>\n",
       "      <td>house</td>\n",
       "      <td>https://www.congress.gov/bill/116th-congress/h...</td>\n",
       "      <td>263</td>\n",
       "      <td>NaN</td>\n",
       "    </tr>\n",
       "    <tr>\n",
       "      <th>5</th>\n",
       "      <td>116</td>\n",
       "      <td>house</td>\n",
       "      <td>https://www.congress.gov/bill/116th-congress/h...</td>\n",
       "      <td>266</td>\n",
       "      <td>NaN</td>\n",
       "    </tr>\n",
       "    <tr>\n",
       "      <th>6</th>\n",
       "      <td>116</td>\n",
       "      <td>house</td>\n",
       "      <td>https://www.congress.gov/bill/116th-congress/h...</td>\n",
       "      <td>276</td>\n",
       "      <td>NaN</td>\n",
       "    </tr>\n",
       "    <tr>\n",
       "      <th>7</th>\n",
       "      <td>116</td>\n",
       "      <td>house</td>\n",
       "      <td>https://www.congress.gov/bill/116th-congress/h...</td>\n",
       "      <td>299</td>\n",
       "      <td>NaN</td>\n",
       "    </tr>\n",
       "    <tr>\n",
       "      <th>8</th>\n",
       "      <td>116</td>\n",
       "      <td>house</td>\n",
       "      <td>https://www.congress.gov/bill/116th-congress/h...</td>\n",
       "      <td>430</td>\n",
       "      <td>NaN</td>\n",
       "    </tr>\n",
       "    <tr>\n",
       "      <th>9</th>\n",
       "      <td>116</td>\n",
       "      <td>house</td>\n",
       "      <td>https://www.congress.gov/bill/116th-congress/h...</td>\n",
       "      <td>434</td>\n",
       "      <td>NaN</td>\n",
       "    </tr>\n",
       "    <tr>\n",
       "      <th>10</th>\n",
       "      <td>116</td>\n",
       "      <td>house</td>\n",
       "      <td>https://www.congress.gov/bill/116th-congress/h...</td>\n",
       "      <td>439</td>\n",
       "      <td>NaN</td>\n",
       "    </tr>\n",
       "    <tr>\n",
       "      <th>11</th>\n",
       "      <td>116</td>\n",
       "      <td>house</td>\n",
       "      <td>https://www.congress.gov/bill/116th-congress/h...</td>\n",
       "      <td>473</td>\n",
       "      <td>NaN</td>\n",
       "    </tr>\n",
       "    <tr>\n",
       "      <th>12</th>\n",
       "      <td>116</td>\n",
       "      <td>house</td>\n",
       "      <td>https://www.congress.gov/bill/116th-congress/h...</td>\n",
       "      <td>504</td>\n",
       "      <td>NaN</td>\n",
       "    </tr>\n",
       "    <tr>\n",
       "      <th>13</th>\n",
       "      <td>116</td>\n",
       "      <td>house</td>\n",
       "      <td>https://www.congress.gov/bill/116th-congress/h...</td>\n",
       "      <td>540</td>\n",
       "      <td>NaN</td>\n",
       "    </tr>\n",
       "    <tr>\n",
       "      <th>14</th>\n",
       "      <td>116</td>\n",
       "      <td>house</td>\n",
       "      <td>https://www.congress.gov/bill/116th-congress/h...</td>\n",
       "      <td>559</td>\n",
       "      <td>NaN</td>\n",
       "    </tr>\n",
       "    <tr>\n",
       "      <th>15</th>\n",
       "      <td>116</td>\n",
       "      <td>house</td>\n",
       "      <td>https://www.congress.gov/bill/116th-congress/h...</td>\n",
       "      <td>561</td>\n",
       "      <td>NaN</td>\n",
       "    </tr>\n",
       "    <tr>\n",
       "      <th>16</th>\n",
       "      <td>116</td>\n",
       "      <td>house</td>\n",
       "      <td>https://www.congress.gov/bill/116th-congress/h...</td>\n",
       "      <td>583</td>\n",
       "      <td>NaN</td>\n",
       "    </tr>\n",
       "    <tr>\n",
       "      <th>17</th>\n",
       "      <td>116</td>\n",
       "      <td>house</td>\n",
       "      <td>https://www.congress.gov/bill/116th-congress/h...</td>\n",
       "      <td>639</td>\n",
       "      <td>NaN</td>\n",
       "    </tr>\n",
       "    <tr>\n",
       "      <th>18</th>\n",
       "      <td>116</td>\n",
       "      <td>house</td>\n",
       "      <td>https://www.congress.gov/bill/116th-congress/h...</td>\n",
       "      <td>724</td>\n",
       "      <td>NaN</td>\n",
       "    </tr>\n",
       "    <tr>\n",
       "      <th>19</th>\n",
       "      <td>116</td>\n",
       "      <td>house</td>\n",
       "      <td>https://www.congress.gov/bill/116th-congress/h...</td>\n",
       "      <td>748</td>\n",
       "      <td>NaN</td>\n",
       "    </tr>\n",
       "    <tr>\n",
       "      <th>20</th>\n",
       "      <td>116</td>\n",
       "      <td>house</td>\n",
       "      <td>https://www.congress.gov/bill/116th-congress/h...</td>\n",
       "      <td>776</td>\n",
       "      <td>NaN</td>\n",
       "    </tr>\n",
       "    <tr>\n",
       "      <th>21</th>\n",
       "      <td>116</td>\n",
       "      <td>house</td>\n",
       "      <td>https://www.congress.gov/bill/116th-congress/h...</td>\n",
       "      <td>777</td>\n",
       "      <td>NaN</td>\n",
       "    </tr>\n",
       "    <tr>\n",
       "      <th>22</th>\n",
       "      <td>116</td>\n",
       "      <td>house</td>\n",
       "      <td>https://www.congress.gov/bill/116th-congress/h...</td>\n",
       "      <td>828</td>\n",
       "      <td>NaN</td>\n",
       "    </tr>\n",
       "    <tr>\n",
       "      <th>23</th>\n",
       "      <td>116</td>\n",
       "      <td>house</td>\n",
       "      <td>https://www.congress.gov/bill/116th-congress/h...</td>\n",
       "      <td>829</td>\n",
       "      <td>NaN</td>\n",
       "    </tr>\n",
       "    <tr>\n",
       "      <th>24</th>\n",
       "      <td>116</td>\n",
       "      <td>house</td>\n",
       "      <td>https://www.congress.gov/bill/116th-congress/h...</td>\n",
       "      <td>831</td>\n",
       "      <td>NaN</td>\n",
       "    </tr>\n",
       "    <tr>\n",
       "      <th>25</th>\n",
       "      <td>116</td>\n",
       "      <td>house</td>\n",
       "      <td>https://www.congress.gov/bill/116th-congress/h...</td>\n",
       "      <td>835</td>\n",
       "      <td>NaN</td>\n",
       "    </tr>\n",
       "    <tr>\n",
       "      <th>26</th>\n",
       "      <td>116</td>\n",
       "      <td>house</td>\n",
       "      <td>https://www.congress.gov/bill/116th-congress/h...</td>\n",
       "      <td>866</td>\n",
       "      <td>NaN</td>\n",
       "    </tr>\n",
       "    <tr>\n",
       "      <th>27</th>\n",
       "      <td>116</td>\n",
       "      <td>house</td>\n",
       "      <td>https://www.congress.gov/bill/116th-congress/h...</td>\n",
       "      <td>886</td>\n",
       "      <td>NaN</td>\n",
       "    </tr>\n",
       "    <tr>\n",
       "      <th>28</th>\n",
       "      <td>116</td>\n",
       "      <td>house</td>\n",
       "      <td>https://www.congress.gov/bill/116th-congress/h...</td>\n",
       "      <td>887</td>\n",
       "      <td>NaN</td>\n",
       "    </tr>\n",
       "    <tr>\n",
       "      <th>29</th>\n",
       "      <td>116</td>\n",
       "      <td>house</td>\n",
       "      <td>https://www.congress.gov/bill/116th-congress/h...</td>\n",
       "      <td>943</td>\n",
       "      <td>NaN</td>\n",
       "    </tr>\n",
       "    <tr>\n",
       "      <th>30</th>\n",
       "      <td>116</td>\n",
       "      <td>house</td>\n",
       "      <td>https://www.congress.gov/bill/116th-congress/h...</td>\n",
       "      <td>991</td>\n",
       "      <td>NaN</td>\n",
       "    </tr>\n",
       "    <tr>\n",
       "      <th>31</th>\n",
       "      <td>116</td>\n",
       "      <td>house</td>\n",
       "      <td>https://www.congress.gov/bill/116th-congress/h...</td>\n",
       "      <td>1058</td>\n",
       "      <td>NaN</td>\n",
       "    </tr>\n",
       "    <tr>\n",
       "      <th>32</th>\n",
       "      <td>116</td>\n",
       "      <td>house</td>\n",
       "      <td>https://www.congress.gov/bill/116th-congress/h...</td>\n",
       "      <td>1079</td>\n",
       "      <td>NaN</td>\n",
       "    </tr>\n",
       "    <tr>\n",
       "      <th>33</th>\n",
       "      <td>116</td>\n",
       "      <td>house</td>\n",
       "      <td>https://www.congress.gov/bill/116th-congress/h...</td>\n",
       "      <td>1123</td>\n",
       "      <td>NaN</td>\n",
       "    </tr>\n",
       "    <tr>\n",
       "      <th>34</th>\n",
       "      <td>116</td>\n",
       "      <td>house</td>\n",
       "      <td>https://www.congress.gov/bill/116th-congress/h...</td>\n",
       "      <td>1138</td>\n",
       "      <td>NaN</td>\n",
       "    </tr>\n",
       "    <tr>\n",
       "      <th>35</th>\n",
       "      <td>116</td>\n",
       "      <td>house</td>\n",
       "      <td>https://www.congress.gov/bill/116th-congress/h...</td>\n",
       "      <td>1158</td>\n",
       "      <td>NaN</td>\n",
       "    </tr>\n",
       "    <tr>\n",
       "      <th>36</th>\n",
       "      <td>116</td>\n",
       "      <td>house</td>\n",
       "      <td>https://www.congress.gov/bill/116th-congress/h...</td>\n",
       "      <td>1198</td>\n",
       "      <td>NaN</td>\n",
       "    </tr>\n",
       "    <tr>\n",
       "      <th>37</th>\n",
       "      <td>116</td>\n",
       "      <td>house</td>\n",
       "      <td>https://www.congress.gov/bill/116th-congress/h...</td>\n",
       "      <td>1200</td>\n",
       "      <td>NaN</td>\n",
       "    </tr>\n",
       "    <tr>\n",
       "      <th>38</th>\n",
       "      <td>116</td>\n",
       "      <td>house</td>\n",
       "      <td>https://www.congress.gov/bill/116th-congress/h...</td>\n",
       "      <td>1222</td>\n",
       "      <td>NaN</td>\n",
       "    </tr>\n",
       "    <tr>\n",
       "      <th>39</th>\n",
       "      <td>116</td>\n",
       "      <td>house</td>\n",
       "      <td>https://www.congress.gov/bill/116th-congress/h...</td>\n",
       "      <td>1250</td>\n",
       "      <td>NaN</td>\n",
       "    </tr>\n",
       "  </tbody>\n",
       "</table>\n",
       "</div>"
      ],
      "text/plain": [
       "    congress chamber                                           bill_url  \\\n",
       "0        116   house  https://www.congress.gov/bill/116th-congress/h...   \n",
       "1        116   house  https://www.congress.gov/bill/116th-congress/h...   \n",
       "2        116   house  https://www.congress.gov/bill/116th-congress/h...   \n",
       "3        116   house  https://www.congress.gov/bill/116th-congress/h...   \n",
       "4        116   house  https://www.congress.gov/bill/116th-congress/h...   \n",
       "5        116   house  https://www.congress.gov/bill/116th-congress/h...   \n",
       "6        116   house  https://www.congress.gov/bill/116th-congress/h...   \n",
       "7        116   house  https://www.congress.gov/bill/116th-congress/h...   \n",
       "8        116   house  https://www.congress.gov/bill/116th-congress/h...   \n",
       "9        116   house  https://www.congress.gov/bill/116th-congress/h...   \n",
       "10       116   house  https://www.congress.gov/bill/116th-congress/h...   \n",
       "11       116   house  https://www.congress.gov/bill/116th-congress/h...   \n",
       "12       116   house  https://www.congress.gov/bill/116th-congress/h...   \n",
       "13       116   house  https://www.congress.gov/bill/116th-congress/h...   \n",
       "14       116   house  https://www.congress.gov/bill/116th-congress/h...   \n",
       "15       116   house  https://www.congress.gov/bill/116th-congress/h...   \n",
       "16       116   house  https://www.congress.gov/bill/116th-congress/h...   \n",
       "17       116   house  https://www.congress.gov/bill/116th-congress/h...   \n",
       "18       116   house  https://www.congress.gov/bill/116th-congress/h...   \n",
       "19       116   house  https://www.congress.gov/bill/116th-congress/h...   \n",
       "20       116   house  https://www.congress.gov/bill/116th-congress/h...   \n",
       "21       116   house  https://www.congress.gov/bill/116th-congress/h...   \n",
       "22       116   house  https://www.congress.gov/bill/116th-congress/h...   \n",
       "23       116   house  https://www.congress.gov/bill/116th-congress/h...   \n",
       "24       116   house  https://www.congress.gov/bill/116th-congress/h...   \n",
       "25       116   house  https://www.congress.gov/bill/116th-congress/h...   \n",
       "26       116   house  https://www.congress.gov/bill/116th-congress/h...   \n",
       "27       116   house  https://www.congress.gov/bill/116th-congress/h...   \n",
       "28       116   house  https://www.congress.gov/bill/116th-congress/h...   \n",
       "29       116   house  https://www.congress.gov/bill/116th-congress/h...   \n",
       "30       116   house  https://www.congress.gov/bill/116th-congress/h...   \n",
       "31       116   house  https://www.congress.gov/bill/116th-congress/h...   \n",
       "32       116   house  https://www.congress.gov/bill/116th-congress/h...   \n",
       "33       116   house  https://www.congress.gov/bill/116th-congress/h...   \n",
       "34       116   house  https://www.congress.gov/bill/116th-congress/h...   \n",
       "35       116   house  https://www.congress.gov/bill/116th-congress/h...   \n",
       "36       116   house  https://www.congress.gov/bill/116th-congress/h...   \n",
       "37       116   house  https://www.congress.gov/bill/116th-congress/h...   \n",
       "38       116   house  https://www.congress.gov/bill/116th-congress/h...   \n",
       "39       116   house  https://www.congress.gov/bill/116th-congress/h...   \n",
       "\n",
       "    bill_number  word_count  \n",
       "0           133         NaN  \n",
       "1           150         NaN  \n",
       "2           251         NaN  \n",
       "3           259         NaN  \n",
       "4           263         NaN  \n",
       "5           266         NaN  \n",
       "6           276         NaN  \n",
       "7           299         NaN  \n",
       "8           430         NaN  \n",
       "9           434         NaN  \n",
       "10          439         NaN  \n",
       "11          473         NaN  \n",
       "12          504         NaN  \n",
       "13          540         NaN  \n",
       "14          559         NaN  \n",
       "15          561         NaN  \n",
       "16          583         NaN  \n",
       "17          639         NaN  \n",
       "18          724         NaN  \n",
       "19          748         NaN  \n",
       "20          776         NaN  \n",
       "21          777         NaN  \n",
       "22          828         NaN  \n",
       "23          829         NaN  \n",
       "24          831         NaN  \n",
       "25          835         NaN  \n",
       "26          866         NaN  \n",
       "27          886         NaN  \n",
       "28          887         NaN  \n",
       "29          943         NaN  \n",
       "30          991         NaN  \n",
       "31         1058         NaN  \n",
       "32         1079         NaN  \n",
       "33         1123         NaN  \n",
       "34         1138         NaN  \n",
       "35         1158         NaN  \n",
       "36         1198         NaN  \n",
       "37         1200         NaN  \n",
       "38         1222         NaN  \n",
       "39         1250         NaN  "
      ]
     },
<<<<<<< HEAD
     "execution_count": 39,
=======
     "execution_count": 64,
>>>>>>> 05a17733c6e50ee1a5e7d78e4fe55f581a9d783f
     "metadata": {},
     "output_type": "execute_result"
    }
   ],
   "source": [
    "bills_df"
   ]
  },
  {
   "cell_type": "markdown",
   "id": "ef4aadfb-f310-418b-af93-0e51591fd24d",
   "metadata": {},
   "source": [
    "##### Create a new column, method 2\n",
    "You need to `import numpy as np` for this but it's easier!"
   ]
  },
  {
   "cell_type": "code",
<<<<<<< HEAD
   "execution_count": 40,
=======
   "execution_count": 65,
>>>>>>> 05a17733c6e50ee1a5e7d78e4fe55f581a9d783f
   "id": "7dd366b1-da18-4d11-9101-6796f130c04f",
   "metadata": {},
   "outputs": [],
   "source": [
    "import numpy as np\n",
    "bills_df['word_count'] = np.nan"
   ]
  },
  {
   "cell_type": "code",
<<<<<<< HEAD
   "execution_count": 41,
=======
   "execution_count": 66,
>>>>>>> 05a17733c6e50ee1a5e7d78e4fe55f581a9d783f
   "id": "7ae7703c-6fe6-47aa-b834-b6737e10dab1",
   "metadata": {},
   "outputs": [
    {
     "data": {
      "text/html": [
       "<div>\n",
       "<style scoped>\n",
       "    .dataframe tbody tr th:only-of-type {\n",
       "        vertical-align: middle;\n",
       "    }\n",
       "\n",
       "    .dataframe tbody tr th {\n",
       "        vertical-align: top;\n",
       "    }\n",
       "\n",
       "    .dataframe thead th {\n",
       "        text-align: right;\n",
       "    }\n",
       "</style>\n",
       "<table border=\"1\" class=\"dataframe\">\n",
       "  <thead>\n",
       "    <tr style=\"text-align: right;\">\n",
       "      <th></th>\n",
       "      <th>congress</th>\n",
       "      <th>chamber</th>\n",
       "      <th>bill_url</th>\n",
       "      <th>bill_number</th>\n",
       "      <th>word_count</th>\n",
       "    </tr>\n",
       "  </thead>\n",
       "  <tbody>\n",
       "    <tr>\n",
       "      <th>0</th>\n",
       "      <td>116</td>\n",
       "      <td>house</td>\n",
       "      <td>https://www.congress.gov/bill/116th-congress/h...</td>\n",
       "      <td>133</td>\n",
       "      <td>NaN</td>\n",
       "    </tr>\n",
       "    <tr>\n",
       "      <th>1</th>\n",
       "      <td>116</td>\n",
       "      <td>house</td>\n",
       "      <td>https://www.congress.gov/bill/116th-congress/h...</td>\n",
       "      <td>150</td>\n",
       "      <td>NaN</td>\n",
       "    </tr>\n",
       "    <tr>\n",
       "      <th>2</th>\n",
       "      <td>116</td>\n",
       "      <td>house</td>\n",
       "      <td>https://www.congress.gov/bill/116th-congress/h...</td>\n",
       "      <td>251</td>\n",
       "      <td>NaN</td>\n",
       "    </tr>\n",
       "    <tr>\n",
       "      <th>3</th>\n",
       "      <td>116</td>\n",
       "      <td>house</td>\n",
       "      <td>https://www.congress.gov/bill/116th-congress/h...</td>\n",
       "      <td>259</td>\n",
       "      <td>NaN</td>\n",
       "    </tr>\n",
       "    <tr>\n",
       "      <th>4</th>\n",
       "      <td>116</td>\n",
       "      <td>house</td>\n",
       "      <td>https://www.congress.gov/bill/116th-congress/h...</td>\n",
       "      <td>263</td>\n",
       "      <td>NaN</td>\n",
       "    </tr>\n",
       "    <tr>\n",
       "      <th>5</th>\n",
       "      <td>116</td>\n",
       "      <td>house</td>\n",
       "      <td>https://www.congress.gov/bill/116th-congress/h...</td>\n",
       "      <td>266</td>\n",
       "      <td>NaN</td>\n",
       "    </tr>\n",
       "    <tr>\n",
       "      <th>6</th>\n",
       "      <td>116</td>\n",
       "      <td>house</td>\n",
       "      <td>https://www.congress.gov/bill/116th-congress/h...</td>\n",
       "      <td>276</td>\n",
       "      <td>NaN</td>\n",
       "    </tr>\n",
       "    <tr>\n",
       "      <th>7</th>\n",
       "      <td>116</td>\n",
       "      <td>house</td>\n",
       "      <td>https://www.congress.gov/bill/116th-congress/h...</td>\n",
       "      <td>299</td>\n",
       "      <td>NaN</td>\n",
       "    </tr>\n",
       "    <tr>\n",
       "      <th>8</th>\n",
       "      <td>116</td>\n",
       "      <td>house</td>\n",
       "      <td>https://www.congress.gov/bill/116th-congress/h...</td>\n",
       "      <td>430</td>\n",
       "      <td>NaN</td>\n",
       "    </tr>\n",
       "    <tr>\n",
       "      <th>9</th>\n",
       "      <td>116</td>\n",
       "      <td>house</td>\n",
       "      <td>https://www.congress.gov/bill/116th-congress/h...</td>\n",
       "      <td>434</td>\n",
       "      <td>NaN</td>\n",
       "    </tr>\n",
       "    <tr>\n",
       "      <th>10</th>\n",
       "      <td>116</td>\n",
       "      <td>house</td>\n",
       "      <td>https://www.congress.gov/bill/116th-congress/h...</td>\n",
       "      <td>439</td>\n",
       "      <td>NaN</td>\n",
       "    </tr>\n",
       "    <tr>\n",
       "      <th>11</th>\n",
       "      <td>116</td>\n",
       "      <td>house</td>\n",
       "      <td>https://www.congress.gov/bill/116th-congress/h...</td>\n",
       "      <td>473</td>\n",
       "      <td>NaN</td>\n",
       "    </tr>\n",
       "    <tr>\n",
       "      <th>12</th>\n",
       "      <td>116</td>\n",
       "      <td>house</td>\n",
       "      <td>https://www.congress.gov/bill/116th-congress/h...</td>\n",
       "      <td>504</td>\n",
       "      <td>NaN</td>\n",
       "    </tr>\n",
       "    <tr>\n",
       "      <th>13</th>\n",
       "      <td>116</td>\n",
       "      <td>house</td>\n",
       "      <td>https://www.congress.gov/bill/116th-congress/h...</td>\n",
       "      <td>540</td>\n",
       "      <td>NaN</td>\n",
       "    </tr>\n",
       "    <tr>\n",
       "      <th>14</th>\n",
       "      <td>116</td>\n",
       "      <td>house</td>\n",
       "      <td>https://www.congress.gov/bill/116th-congress/h...</td>\n",
       "      <td>559</td>\n",
       "      <td>NaN</td>\n",
       "    </tr>\n",
       "    <tr>\n",
       "      <th>15</th>\n",
       "      <td>116</td>\n",
       "      <td>house</td>\n",
       "      <td>https://www.congress.gov/bill/116th-congress/h...</td>\n",
       "      <td>561</td>\n",
       "      <td>NaN</td>\n",
       "    </tr>\n",
       "    <tr>\n",
       "      <th>16</th>\n",
       "      <td>116</td>\n",
       "      <td>house</td>\n",
       "      <td>https://www.congress.gov/bill/116th-congress/h...</td>\n",
       "      <td>583</td>\n",
       "      <td>NaN</td>\n",
       "    </tr>\n",
       "    <tr>\n",
       "      <th>17</th>\n",
       "      <td>116</td>\n",
       "      <td>house</td>\n",
       "      <td>https://www.congress.gov/bill/116th-congress/h...</td>\n",
       "      <td>639</td>\n",
       "      <td>NaN</td>\n",
       "    </tr>\n",
       "    <tr>\n",
       "      <th>18</th>\n",
       "      <td>116</td>\n",
       "      <td>house</td>\n",
       "      <td>https://www.congress.gov/bill/116th-congress/h...</td>\n",
       "      <td>724</td>\n",
       "      <td>NaN</td>\n",
       "    </tr>\n",
       "    <tr>\n",
       "      <th>19</th>\n",
       "      <td>116</td>\n",
       "      <td>house</td>\n",
       "      <td>https://www.congress.gov/bill/116th-congress/h...</td>\n",
       "      <td>748</td>\n",
       "      <td>NaN</td>\n",
       "    </tr>\n",
       "    <tr>\n",
       "      <th>20</th>\n",
       "      <td>116</td>\n",
       "      <td>house</td>\n",
       "      <td>https://www.congress.gov/bill/116th-congress/h...</td>\n",
       "      <td>776</td>\n",
       "      <td>NaN</td>\n",
       "    </tr>\n",
       "    <tr>\n",
       "      <th>21</th>\n",
       "      <td>116</td>\n",
       "      <td>house</td>\n",
       "      <td>https://www.congress.gov/bill/116th-congress/h...</td>\n",
       "      <td>777</td>\n",
       "      <td>NaN</td>\n",
       "    </tr>\n",
       "    <tr>\n",
       "      <th>22</th>\n",
       "      <td>116</td>\n",
       "      <td>house</td>\n",
       "      <td>https://www.congress.gov/bill/116th-congress/h...</td>\n",
       "      <td>828</td>\n",
       "      <td>NaN</td>\n",
       "    </tr>\n",
       "    <tr>\n",
       "      <th>23</th>\n",
       "      <td>116</td>\n",
       "      <td>house</td>\n",
       "      <td>https://www.congress.gov/bill/116th-congress/h...</td>\n",
       "      <td>829</td>\n",
       "      <td>NaN</td>\n",
       "    </tr>\n",
       "    <tr>\n",
       "      <th>24</th>\n",
       "      <td>116</td>\n",
       "      <td>house</td>\n",
       "      <td>https://www.congress.gov/bill/116th-congress/h...</td>\n",
       "      <td>831</td>\n",
       "      <td>NaN</td>\n",
       "    </tr>\n",
       "    <tr>\n",
       "      <th>25</th>\n",
       "      <td>116</td>\n",
       "      <td>house</td>\n",
       "      <td>https://www.congress.gov/bill/116th-congress/h...</td>\n",
       "      <td>835</td>\n",
       "      <td>NaN</td>\n",
       "    </tr>\n",
       "    <tr>\n",
       "      <th>26</th>\n",
       "      <td>116</td>\n",
       "      <td>house</td>\n",
       "      <td>https://www.congress.gov/bill/116th-congress/h...</td>\n",
       "      <td>866</td>\n",
       "      <td>NaN</td>\n",
       "    </tr>\n",
       "    <tr>\n",
       "      <th>27</th>\n",
       "      <td>116</td>\n",
       "      <td>house</td>\n",
       "      <td>https://www.congress.gov/bill/116th-congress/h...</td>\n",
       "      <td>886</td>\n",
       "      <td>NaN</td>\n",
       "    </tr>\n",
       "    <tr>\n",
       "      <th>28</th>\n",
       "      <td>116</td>\n",
       "      <td>house</td>\n",
       "      <td>https://www.congress.gov/bill/116th-congress/h...</td>\n",
       "      <td>887</td>\n",
       "      <td>NaN</td>\n",
       "    </tr>\n",
       "    <tr>\n",
       "      <th>29</th>\n",
       "      <td>116</td>\n",
       "      <td>house</td>\n",
       "      <td>https://www.congress.gov/bill/116th-congress/h...</td>\n",
       "      <td>943</td>\n",
       "      <td>NaN</td>\n",
       "    </tr>\n",
       "    <tr>\n",
       "      <th>30</th>\n",
       "      <td>116</td>\n",
       "      <td>house</td>\n",
       "      <td>https://www.congress.gov/bill/116th-congress/h...</td>\n",
       "      <td>991</td>\n",
       "      <td>NaN</td>\n",
       "    </tr>\n",
       "    <tr>\n",
       "      <th>31</th>\n",
       "      <td>116</td>\n",
       "      <td>house</td>\n",
       "      <td>https://www.congress.gov/bill/116th-congress/h...</td>\n",
       "      <td>1058</td>\n",
       "      <td>NaN</td>\n",
       "    </tr>\n",
       "    <tr>\n",
       "      <th>32</th>\n",
       "      <td>116</td>\n",
       "      <td>house</td>\n",
       "      <td>https://www.congress.gov/bill/116th-congress/h...</td>\n",
       "      <td>1079</td>\n",
       "      <td>NaN</td>\n",
       "    </tr>\n",
       "    <tr>\n",
       "      <th>33</th>\n",
       "      <td>116</td>\n",
       "      <td>house</td>\n",
       "      <td>https://www.congress.gov/bill/116th-congress/h...</td>\n",
       "      <td>1123</td>\n",
       "      <td>NaN</td>\n",
       "    </tr>\n",
       "    <tr>\n",
       "      <th>34</th>\n",
       "      <td>116</td>\n",
       "      <td>house</td>\n",
       "      <td>https://www.congress.gov/bill/116th-congress/h...</td>\n",
       "      <td>1138</td>\n",
       "      <td>NaN</td>\n",
       "    </tr>\n",
       "    <tr>\n",
       "      <th>35</th>\n",
       "      <td>116</td>\n",
       "      <td>house</td>\n",
       "      <td>https://www.congress.gov/bill/116th-congress/h...</td>\n",
       "      <td>1158</td>\n",
       "      <td>NaN</td>\n",
       "    </tr>\n",
       "    <tr>\n",
       "      <th>36</th>\n",
       "      <td>116</td>\n",
       "      <td>house</td>\n",
       "      <td>https://www.congress.gov/bill/116th-congress/h...</td>\n",
       "      <td>1198</td>\n",
       "      <td>NaN</td>\n",
       "    </tr>\n",
       "    <tr>\n",
       "      <th>37</th>\n",
       "      <td>116</td>\n",
       "      <td>house</td>\n",
       "      <td>https://www.congress.gov/bill/116th-congress/h...</td>\n",
       "      <td>1200</td>\n",
       "      <td>NaN</td>\n",
       "    </tr>\n",
       "    <tr>\n",
       "      <th>38</th>\n",
       "      <td>116</td>\n",
       "      <td>house</td>\n",
       "      <td>https://www.congress.gov/bill/116th-congress/h...</td>\n",
       "      <td>1222</td>\n",
       "      <td>NaN</td>\n",
       "    </tr>\n",
       "    <tr>\n",
       "      <th>39</th>\n",
       "      <td>116</td>\n",
       "      <td>house</td>\n",
       "      <td>https://www.congress.gov/bill/116th-congress/h...</td>\n",
       "      <td>1250</td>\n",
       "      <td>NaN</td>\n",
       "    </tr>\n",
       "  </tbody>\n",
       "</table>\n",
       "</div>"
      ],
      "text/plain": [
       "    congress chamber                                           bill_url  \\\n",
       "0        116   house  https://www.congress.gov/bill/116th-congress/h...   \n",
       "1        116   house  https://www.congress.gov/bill/116th-congress/h...   \n",
       "2        116   house  https://www.congress.gov/bill/116th-congress/h...   \n",
       "3        116   house  https://www.congress.gov/bill/116th-congress/h...   \n",
       "4        116   house  https://www.congress.gov/bill/116th-congress/h...   \n",
       "5        116   house  https://www.congress.gov/bill/116th-congress/h...   \n",
       "6        116   house  https://www.congress.gov/bill/116th-congress/h...   \n",
       "7        116   house  https://www.congress.gov/bill/116th-congress/h...   \n",
       "8        116   house  https://www.congress.gov/bill/116th-congress/h...   \n",
       "9        116   house  https://www.congress.gov/bill/116th-congress/h...   \n",
       "10       116   house  https://www.congress.gov/bill/116th-congress/h...   \n",
       "11       116   house  https://www.congress.gov/bill/116th-congress/h...   \n",
       "12       116   house  https://www.congress.gov/bill/116th-congress/h...   \n",
       "13       116   house  https://www.congress.gov/bill/116th-congress/h...   \n",
       "14       116   house  https://www.congress.gov/bill/116th-congress/h...   \n",
       "15       116   house  https://www.congress.gov/bill/116th-congress/h...   \n",
       "16       116   house  https://www.congress.gov/bill/116th-congress/h...   \n",
       "17       116   house  https://www.congress.gov/bill/116th-congress/h...   \n",
       "18       116   house  https://www.congress.gov/bill/116th-congress/h...   \n",
       "19       116   house  https://www.congress.gov/bill/116th-congress/h...   \n",
       "20       116   house  https://www.congress.gov/bill/116th-congress/h...   \n",
       "21       116   house  https://www.congress.gov/bill/116th-congress/h...   \n",
       "22       116   house  https://www.congress.gov/bill/116th-congress/h...   \n",
       "23       116   house  https://www.congress.gov/bill/116th-congress/h...   \n",
       "24       116   house  https://www.congress.gov/bill/116th-congress/h...   \n",
       "25       116   house  https://www.congress.gov/bill/116th-congress/h...   \n",
       "26       116   house  https://www.congress.gov/bill/116th-congress/h...   \n",
       "27       116   house  https://www.congress.gov/bill/116th-congress/h...   \n",
       "28       116   house  https://www.congress.gov/bill/116th-congress/h...   \n",
       "29       116   house  https://www.congress.gov/bill/116th-congress/h...   \n",
       "30       116   house  https://www.congress.gov/bill/116th-congress/h...   \n",
       "31       116   house  https://www.congress.gov/bill/116th-congress/h...   \n",
       "32       116   house  https://www.congress.gov/bill/116th-congress/h...   \n",
       "33       116   house  https://www.congress.gov/bill/116th-congress/h...   \n",
       "34       116   house  https://www.congress.gov/bill/116th-congress/h...   \n",
       "35       116   house  https://www.congress.gov/bill/116th-congress/h...   \n",
       "36       116   house  https://www.congress.gov/bill/116th-congress/h...   \n",
       "37       116   house  https://www.congress.gov/bill/116th-congress/h...   \n",
       "38       116   house  https://www.congress.gov/bill/116th-congress/h...   \n",
       "39       116   house  https://www.congress.gov/bill/116th-congress/h...   \n",
       "\n",
       "    bill_number  word_count  \n",
       "0           133         NaN  \n",
       "1           150         NaN  \n",
       "2           251         NaN  \n",
       "3           259         NaN  \n",
       "4           263         NaN  \n",
       "5           266         NaN  \n",
       "6           276         NaN  \n",
       "7           299         NaN  \n",
       "8           430         NaN  \n",
       "9           434         NaN  \n",
       "10          439         NaN  \n",
       "11          473         NaN  \n",
       "12          504         NaN  \n",
       "13          540         NaN  \n",
       "14          559         NaN  \n",
       "15          561         NaN  \n",
       "16          583         NaN  \n",
       "17          639         NaN  \n",
       "18          724         NaN  \n",
       "19          748         NaN  \n",
       "20          776         NaN  \n",
       "21          777         NaN  \n",
       "22          828         NaN  \n",
       "23          829         NaN  \n",
       "24          831         NaN  \n",
       "25          835         NaN  \n",
       "26          866         NaN  \n",
       "27          886         NaN  \n",
       "28          887         NaN  \n",
       "29          943         NaN  \n",
       "30          991         NaN  \n",
       "31         1058         NaN  \n",
       "32         1079         NaN  \n",
       "33         1123         NaN  \n",
       "34         1138         NaN  \n",
       "35         1158         NaN  \n",
       "36         1198         NaN  \n",
       "37         1200         NaN  \n",
       "38         1222         NaN  \n",
       "39         1250         NaN  "
      ]
     },
<<<<<<< HEAD
     "execution_count": 41,
=======
     "execution_count": 66,
>>>>>>> 05a17733c6e50ee1a5e7d78e4fe55f581a9d783f
     "metadata": {},
     "output_type": "execute_result"
    }
   ],
   "source": [
    "bills_df"
   ]
  },
  {
   "cell_type": "code",
   "execution_count": 69,
   "id": "458850e9-cc53-4193-84a4-28726b2e2968",
   "metadata": {},
   "outputs": [
    {
     "name": "stdout",
     "output_type": "stream",
     "text": [
      "<class 'pandas.core.frame.DataFrame'>\n",
      "RangeIndex: 40 entries, 0 to 39\n",
      "Data columns (total 5 columns):\n",
      " #   Column       Non-Null Count  Dtype  \n",
      "---  ------       --------------  -----  \n",
      " 0   congress     40 non-null     int64  \n",
      " 1   chamber      40 non-null     object \n",
      " 2   bill_url     40 non-null     object \n",
      " 3   bill_number  40 non-null     int64  \n",
      " 4   word_count   0 non-null      float64\n",
      "dtypes: float64(1), int64(2), object(2)\n",
      "memory usage: 1.7+ KB\n"
     ]
    }
   ],
   "source": [
    "bills_df.info()"
   ]
  },
  {
   "cell_type": "code",
   "execution_count": 70,
   "id": "8a7260e7-ebca-4099-b1c1-fa834aa7d379",
   "metadata": {},
   "outputs": [
    {
     "data": {
      "text/plain": [
       "40"
      ]
     },
     "execution_count": 70,
     "metadata": {},
     "output_type": "execute_result"
    }
   ],
   "source": [
    "bills_df['bill_number'].nunique()"
   ]
  },
  {
   "cell_type": "code",
   "execution_count": 67,
   "id": "20929514-38e4-450c-95d2-fd33867c0978",
   "metadata": {},
   "outputs": [
    {
     "data": {
      "text/plain": [
       "{'congress': 116,\n",
       " 'chamber': 'house',\n",
       " 'bill_url': 'https://www.congress.gov/bill/116th-congress/house-bill/133/text?r=1&s=3',\n",
       " 'bill_number': 133}"
      ]
     },
     "execution_count": 67,
     "metadata": {},
     "output_type": "execute_result"
    }
   ],
   "source": [
    "bills[0]"
   ]
  },
  {
   "cell_type": "markdown",
   "id": "86a59979-0f20-474f-be32-17ccfef5d988",
   "metadata": {
    "tags": []
   },
   "source": [
    "#### Save the word count\n",
    "\n",
    "How do I update Bill 133's 'word_count'? \n",
    "\n",
    "You'll use `df.loc`:\n",
    "\n",
    "```python\n",
    "df.loc[subset_expression, 'column_to_change'] = new_value\n",
    "```\n",
    "In effect, you're subsetting the dataframe and applying a value to a column.\n",
    "\n",
    "In the below code, we subset for rows where 'bill_number' is 133: `bills_df['bill_number'] == 133`\n"
   ]
  },
  {
   "cell_type": "code",
<<<<<<< HEAD
   "execution_count": 42,
=======
   "execution_count": 71,
>>>>>>> 05a17733c6e50ee1a5e7d78e4fe55f581a9d783f
   "id": "7cf05adb-db5e-4b29-9aa7-ee1b47b62073",
   "metadata": {},
   "outputs": [],
   "source": [
    "bills_df.loc[bills_df['bill_number'] == 133, 'word_count'] = bill_word_count"
   ]
  },
  {
   "cell_type": "code",
<<<<<<< HEAD
   "execution_count": 43,
=======
   "execution_count": 68,
>>>>>>> 05a17733c6e50ee1a5e7d78e4fe55f581a9d783f
   "id": "0bb043ff-42ad-4d92-bb35-8719879c2449",
   "metadata": {},
   "outputs": [
    {
     "data": {
      "text/html": [
       "<div>\n",
       "<style scoped>\n",
       "    .dataframe tbody tr th:only-of-type {\n",
       "        vertical-align: middle;\n",
       "    }\n",
       "\n",
       "    .dataframe tbody tr th {\n",
       "        vertical-align: top;\n",
       "    }\n",
       "\n",
       "    .dataframe thead th {\n",
       "        text-align: right;\n",
       "    }\n",
       "</style>\n",
       "<table border=\"1\" class=\"dataframe\">\n",
       "  <thead>\n",
       "    <tr style=\"text-align: right;\">\n",
       "      <th></th>\n",
       "      <th>congress</th>\n",
       "      <th>chamber</th>\n",
       "      <th>bill_url</th>\n",
       "      <th>bill_number</th>\n",
       "      <th>word_count</th>\n",
       "    </tr>\n",
       "  </thead>\n",
       "  <tbody>\n",
       "    <tr>\n",
       "      <th>0</th>\n",
       "      <td>116</td>\n",
       "      <td>house</td>\n",
       "      <td>https://www.congress.gov/bill/116th-congress/h...</td>\n",
       "      <td>133</td>\n",
<<<<<<< HEAD
       "      <td>967689.0</td>\n",
=======
       "      <td>NaN</td>\n",
>>>>>>> 05a17733c6e50ee1a5e7d78e4fe55f581a9d783f
       "    </tr>\n",
       "  </tbody>\n",
       "</table>\n",
       "</div>"
      ],
      "text/plain": [
       "   congress chamber                                           bill_url  \\\n",
       "0       116   house  https://www.congress.gov/bill/116th-congress/h...   \n",
       "\n",
       "   bill_number  word_count  \n",
<<<<<<< HEAD
       "0          133    967689.0  "
      ]
     },
     "execution_count": 43,
=======
       "0          133         NaN  "
      ]
     },
     "execution_count": 68,
>>>>>>> 05a17733c6e50ee1a5e7d78e4fe55f581a9d783f
     "metadata": {},
     "output_type": "execute_result"
    }
   ],
   "source": [
    "bills_df[bills_df['bill_number'] == 133]"
   ]
  },
  {
   "cell_type": "code",
<<<<<<< HEAD
   "execution_count": 45,
=======
   "execution_count": 72,
>>>>>>> 05a17733c6e50ee1a5e7d78e4fe55f581a9d783f
   "id": "846e3cba-8465-47b2-8b61-51ef6343c7a1",
   "metadata": {},
   "outputs": [
    {
     "data": {
      "text/html": [
       "<div>\n",
       "<style scoped>\n",
       "    .dataframe tbody tr th:only-of-type {\n",
       "        vertical-align: middle;\n",
       "    }\n",
       "\n",
       "    .dataframe tbody tr th {\n",
       "        vertical-align: top;\n",
       "    }\n",
       "\n",
       "    .dataframe thead th {\n",
       "        text-align: right;\n",
       "    }\n",
       "</style>\n",
       "<table border=\"1\" class=\"dataframe\">\n",
       "  <thead>\n",
       "    <tr style=\"text-align: right;\">\n",
       "      <th></th>\n",
       "      <th>congress</th>\n",
       "      <th>chamber</th>\n",
       "      <th>bill_url</th>\n",
       "      <th>bill_number</th>\n",
       "      <th>word_count</th>\n",
       "    </tr>\n",
       "  </thead>\n",
       "  <tbody>\n",
       "    <tr>\n",
       "      <th>0</th>\n",
       "      <td>116</td>\n",
       "      <td>house</td>\n",
       "      <td>https://www.congress.gov/bill/116th-congress/h...</td>\n",
       "      <td>133</td>\n",
       "      <td>967689.0</td>\n",
       "    </tr>\n",
       "    <tr>\n",
       "      <th>1</th>\n",
       "      <td>116</td>\n",
       "      <td>house</td>\n",
       "      <td>https://www.congress.gov/bill/116th-congress/h...</td>\n",
       "      <td>150</td>\n",
       "      <td>NaN</td>\n",
       "    </tr>\n",
       "    <tr>\n",
       "      <th>2</th>\n",
       "      <td>116</td>\n",
       "      <td>house</td>\n",
       "      <td>https://www.congress.gov/bill/116th-congress/h...</td>\n",
       "      <td>251</td>\n",
       "      <td>NaN</td>\n",
       "    </tr>\n",
       "    <tr>\n",
       "      <th>3</th>\n",
       "      <td>116</td>\n",
       "      <td>house</td>\n",
       "      <td>https://www.congress.gov/bill/116th-congress/h...</td>\n",
       "      <td>259</td>\n",
       "      <td>NaN</td>\n",
       "    </tr>\n",
       "    <tr>\n",
       "      <th>4</th>\n",
       "      <td>116</td>\n",
       "      <td>house</td>\n",
       "      <td>https://www.congress.gov/bill/116th-congress/h...</td>\n",
       "      <td>263</td>\n",
       "      <td>NaN</td>\n",
       "    </tr>\n",
       "  </tbody>\n",
       "</table>\n",
       "</div>"
      ],
      "text/plain": [
       "   congress chamber                                           bill_url  \\\n",
       "0       116   house  https://www.congress.gov/bill/116th-congress/h...   \n",
       "1       116   house  https://www.congress.gov/bill/116th-congress/h...   \n",
       "2       116   house  https://www.congress.gov/bill/116th-congress/h...   \n",
       "3       116   house  https://www.congress.gov/bill/116th-congress/h...   \n",
       "4       116   house  https://www.congress.gov/bill/116th-congress/h...   \n",
       "\n",
       "   bill_number  word_count  \n",
       "0          133    967689.0  \n",
       "1          150         NaN  \n",
       "2          251         NaN  \n",
       "3          259         NaN  \n",
       "4          263         NaN  "
      ]
     },
<<<<<<< HEAD
     "execution_count": 45,
=======
     "execution_count": 72,
>>>>>>> 05a17733c6e50ee1a5e7d78e4fe55f581a9d783f
     "metadata": {},
     "output_type": "execute_result"
    }
   ],
   "source": [
    "bills_df.head()"
   ]
  },
  {
   "cell_type": "markdown",
   "id": "cf94a0ac-a9f7-4fd5-8192-279bb85ad4fa",
   "metadata": {},
   "source": [
    "## Time for a loop\n",
    "\n",
    "We wrote all the code for ONE test page. But we have more than one item in `bills`."
   ]
  },
  {
   "cell_type": "markdown",
   "id": "b4f44380-2bf3-447a-9881-f8f4c9480ba6",
   "metadata": {},
   "source": [
    "### How do we loop through bills?"
   ]
  },
  {
   "cell_type": "code",
   "execution_count": 75,
   "id": "c7f60443-405a-4f83-ab7a-a2fe4f1ff827",
   "metadata": {},
   "outputs": [],
   "source": [
    "for bill in bills:\n",
    "    \n",
    "    \n",
    "    \n",
    "    pass\n",
    "    # print(bill['bill_number'])"
   ]
  },
  {
   "cell_type": "markdown",
   "id": "a93f94a4-2b5d-4993-be3c-b94e74f3d7ab",
   "metadata": {},
   "source": [
    "At this point, it'll be useful to check out the Table of Contents of this notebook in Lab. What are the steps we need to take?\n",
    "\n",
    "- Request the URL\n",
    "- Save the HTML of the URL\n",
    "- Parse the page with bs4\n",
    "- Find and get what's inside `id='billTextContainer'`\n",
    "- Clean up the bill text\n",
    "  - Replace punctuation with space\n",
    "  - Replace newlines with space\n",
    "  - Replace multiple spaces into one space\n",
    "- Get the word count\n",
    "- Save the word count in the dataframe\n",
    "\n",
    "We're going to switch up a couple things though. The following steps only need to be done once, so they should be executed BEFORE we go through the loop.\n",
    "- Create the folder for saving all the HTML\n",
    "- Create the dataframe to save all the information\n",
    "\n",
    "We'll write the loop in a new notebook for classwork: [`scraping_classwork.ipynb`](scraping_classwork.ipynb).\n",
    "\n",
    "But before we do, I want to introduce you to another Python module that is really helpful when you're scraping: `tqdm`."
   ]
  },
  {
   "cell_type": "markdown",
   "id": "5ba1fa86-6a68-4210-afb6-f4c8259de298",
   "metadata": {},
   "source": [
    "## tqdm\n",
    "\n",
    "You can wrap `tqdm()` around any iterable (list, array, etc.) to create a progress bar."
   ]
  },
  {
   "cell_type": "code",
<<<<<<< HEAD
   "execution_count": 46,
=======
   "execution_count": 76,
>>>>>>> 05a17733c6e50ee1a5e7d78e4fe55f581a9d783f
   "id": "fd038cc9-d0ab-44b3-9bd9-71adfd500bdb",
   "metadata": {},
   "outputs": [],
   "source": [
    "from tqdm.notebook import tqdm\n",
    "from time import sleep # this module just helps us visualize a delay"
   ]
  },
  {
   "cell_type": "code",
<<<<<<< HEAD
   "execution_count": 47,
=======
   "execution_count": 77,
>>>>>>> 05a17733c6e50ee1a5e7d78e4fe55f581a9d783f
   "id": "41880fd2-ce6e-4713-9df5-dfbc3410cd52",
   "metadata": {},
   "outputs": [
    {
     "data": {
      "application/vnd.jupyter.widget-view+json": {
<<<<<<< HEAD
       "model_id": "258de6bfd25a473fa446d02294de4b07",
=======
       "model_id": "0b9f09d24b954dc0baf672cbd7c9d826",
>>>>>>> 05a17733c6e50ee1a5e7d78e4fe55f581a9d783f
       "version_major": 2,
       "version_minor": 0
      },
      "text/plain": [
       "  0%|          | 0/20 [00:00<?, ?it/s]"
      ]
     },
     "metadata": {},
     "output_type": "display_data"
    }
   ],
   "source": [
    "for n in tqdm(range(20)):\n",
    "    sleep(0.2)"
   ]
  },
  {
   "cell_type": "code",
   "execution_count": null,
<<<<<<< HEAD
   "id": "573406c3-9853-4ce8-9d8e-cb53cb39ac30",
=======
   "id": "10d8acbd-e40f-49b3-b1a4-503b1058722e",
>>>>>>> 05a17733c6e50ee1a5e7d78e4fe55f581a9d783f
   "metadata": {},
   "outputs": [],
   "source": []
  }
 ],
 "metadata": {
  "kernelspec": {
   "display_name": "Python 3 (ipykernel)",
   "language": "python",
   "name": "python3"
  },
  "language_info": {
   "codemirror_mode": {
    "name": "ipython",
    "version": 3
   },
   "file_extension": ".py",
   "mimetype": "text/x-python",
   "name": "python",
   "nbconvert_exporter": "python",
   "pygments_lexer": "ipython3",
   "version": "3.8.5"
  }
 },
 "nbformat": 4,
 "nbformat_minor": 5
}
